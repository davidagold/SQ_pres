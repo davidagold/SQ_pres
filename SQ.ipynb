{
 "cells": [
  {
   "cell_type": "markdown",
   "metadata": {
    "slideshow": {
     "slide_type": "slide"
    }
   },
   "source": [
    "# Data Manipulation in Julia\n",
    "## David Gold\n",
    "### 10/26/16 - NYC Julia Users Meetup\n"
   ]
  },
  {
   "cell_type": "markdown",
   "metadata": {
    "slideshow": {
     "slide_type": "slide"
    }
   },
   "source": [
    "# About me\n",
    "* Ph.D. student in Deptartment of Statistics at the University of Washington\n",
    "    * work with [Johannes Lederer](https://johanneslederer.com/people/) on high-dimensional inference\n",
    "* Worked on NullableArrays.jl at the Recurse Center over the summer of 2015"
   ]
  },
  {
   "cell_type": "markdown",
   "metadata": {
    "slideshow": {
     "slide_type": "slide"
    }
   },
   "source": [
    "# This Talk: Two Main Threads\n",
    "\n",
    "* StructuredQueries.jl (summer project at [Julia Labs](http://julia.mit.edu/))\n",
    "    * My blog post describing this work can be found [here](http://julialang.org/blog/2016/10/StructuredQueries)\n",
    "* Tabular data support in Julia more generally\n",
    "    * How data manipulation libraries are relevant to planned changes to DataFrames.jl\n",
    "\n",
    "### Main takeaway: we're (slowly) making progress"
   ]
  },
  {
   "cell_type": "markdown",
   "metadata": {
    "slideshow": {
     "slide_type": "slide"
    }
   },
   "source": [
    "## By the way\n",
    "\n",
    "StructuredQueries.jl and all that follows are works in progress and subject to change. There are design choices that need to be made, implementations that need to be cleaned up/tuned, etc.\n",
    "\n",
    "All that said, there is a release schedule in mind. "
   ]
  },
  {
   "cell_type": "markdown",
   "metadata": {
    "slideshow": {
     "slide_type": "slide"
    }
   },
   "source": [
    "# StructuredQueries.jl (SQ)\n",
    "\n",
    "### Query representation framework\n",
    "\n",
    "Goal: Represent the structure of a \"query\" with a directed acyclical graph (DAG) object\n",
    "* \"query\" like in SQL, or a series of manipulations applied to data, as in `dplyr`\n",
    "\n",
    "Why?\n",
    "* ~~Everybody else is using DAGs, so we should too~~\n",
    "* ~~DAG are my initials, and I want to name something in my package after myself~~\n",
    "* Doing so allows us to decouple a query's representation from its execution\n",
    "    * Queries can be generic over different backends (in-memory Julia objects, SQL databases)\n",
    "    * Solve the \"column-indexing\" problem\n",
    "    * Kind of solves the \"`Nullable` lifting\" problem\n",
    "\n",
    "(More on the column-indexing and lifting problems later, if there's time)"
   ]
  },
  {
   "cell_type": "markdown",
   "metadata": {
    "slideshow": {
     "slide_type": "slide"
    }
   },
   "source": [
    "# An example\n",
    "\n",
    "Consider the `iris` dataset."
   ]
  },
  {
   "cell_type": "code",
   "execution_count": 1,
   "metadata": {
    "collapsed": false
   },
   "outputs": [
    {
     "name": "stderr",
     "output_type": "stream",
     "text": [
      "INFO: Checking out DataFrames master...\n",
      "INFO: Pulling DataFrames latest master...\n",
      "WARNING: DataFrames is fixed at 0.8.3+ conflicting with requirement for Collect: [0.9.0,∞)\n",
      "WARNING: AbstractTables is fixed at 0.0.0- conflicting with requirement for TablesDemo: [0.0.1,∞)\n",
      "INFO: No packages to install, update or remove\n"
     ]
    }
   ],
   "source": [
    "Pkg.checkout(\"DataFrames\", \"master\") # at your own risk"
   ]
  },
  {
   "cell_type": "code",
   "execution_count": 2,
   "metadata": {
    "collapsed": false
   },
   "outputs": [
    {
     "data": {
      "text/html": [
       "<table class=\"data-frame\"><tr><th></th><th>sepal_length</th><th>sepal_width</th><th>petal_length</th><th>petal_width</th><th>species</th></tr><tr><th>1</th><td>5.1</td><td>3.5</td><td>1.4</td><td>0.2</td><td>\"setosa\"</td></tr><tr><th>2</th><td>4.9</td><td>3.0</td><td>1.4</td><td>0.2</td><td>\"setosa\"</td></tr><tr><th>3</th><td>4.7</td><td>3.2</td><td>1.3</td><td>0.2</td><td>\"setosa\"</td></tr><tr><th>4</th><td>4.6</td><td>3.1</td><td>1.5</td><td>0.2</td><td>\"setosa\"</td></tr><tr><th>5</th><td>5.0</td><td>3.6</td><td>1.4</td><td>0.2</td><td>\"setosa\"</td></tr><tr><th>6</th><td>5.4</td><td>3.9</td><td>1.7</td><td>0.4</td><td>\"setosa\"</td></tr><tr><th>7</th><td>4.6</td><td>3.4</td><td>1.4</td><td>0.3</td><td>\"setosa\"</td></tr><tr><th>8</th><td>5.0</td><td>3.4</td><td>1.5</td><td>0.2</td><td>\"setosa\"</td></tr><tr><th>9</th><td>4.4</td><td>2.9</td><td>1.4</td><td>0.2</td><td>\"setosa\"</td></tr><tr><th>10</th><td>4.9</td><td>3.1</td><td>1.5</td><td>0.1</td><td>\"setosa\"</td></tr><tr><th>11</th><td>5.4</td><td>3.7</td><td>1.5</td><td>0.2</td><td>\"setosa\"</td></tr><tr><th>12</th><td>4.8</td><td>3.4</td><td>1.6</td><td>0.2</td><td>\"setosa\"</td></tr><tr><th>13</th><td>4.8</td><td>3.0</td><td>1.4</td><td>0.1</td><td>\"setosa\"</td></tr><tr><th>14</th><td>4.3</td><td>3.0</td><td>1.1</td><td>0.1</td><td>\"setosa\"</td></tr><tr><th>15</th><td>5.8</td><td>4.0</td><td>1.2</td><td>0.2</td><td>\"setosa\"</td></tr><tr><th>16</th><td>5.7</td><td>4.4</td><td>1.5</td><td>0.4</td><td>\"setosa\"</td></tr><tr><th>17</th><td>5.4</td><td>3.9</td><td>1.3</td><td>0.4</td><td>\"setosa\"</td></tr><tr><th>18</th><td>5.1</td><td>3.5</td><td>1.4</td><td>0.3</td><td>\"setosa\"</td></tr><tr><th>19</th><td>5.7</td><td>3.8</td><td>1.7</td><td>0.3</td><td>\"setosa\"</td></tr><tr><th>20</th><td>5.1</td><td>3.8</td><td>1.5</td><td>0.3</td><td>\"setosa\"</td></tr><tr><th>21</th><td>5.4</td><td>3.4</td><td>1.7</td><td>0.2</td><td>\"setosa\"</td></tr><tr><th>22</th><td>5.1</td><td>3.7</td><td>1.5</td><td>0.4</td><td>\"setosa\"</td></tr><tr><th>23</th><td>4.6</td><td>3.6</td><td>1.0</td><td>0.2</td><td>\"setosa\"</td></tr><tr><th>24</th><td>5.1</td><td>3.3</td><td>1.7</td><td>0.5</td><td>\"setosa\"</td></tr><tr><th>25</th><td>4.8</td><td>3.4</td><td>1.9</td><td>0.2</td><td>\"setosa\"</td></tr><tr><th>26</th><td>5.0</td><td>3.0</td><td>1.6</td><td>0.2</td><td>\"setosa\"</td></tr><tr><th>27</th><td>5.0</td><td>3.4</td><td>1.6</td><td>0.4</td><td>\"setosa\"</td></tr><tr><th>28</th><td>5.2</td><td>3.5</td><td>1.5</td><td>0.2</td><td>\"setosa\"</td></tr><tr><th>29</th><td>5.2</td><td>3.4</td><td>1.4</td><td>0.2</td><td>\"setosa\"</td></tr><tr><th>30</th><td>4.7</td><td>3.2</td><td>1.6</td><td>0.2</td><td>\"setosa\"</td></tr><tr><th>&vellip;</th><td>&vellip;</td><td>&vellip;</td><td>&vellip;</td><td>&vellip;</td><td>&vellip;</td></tr></table>"
      ],
      "text/plain": [
       "150×5 DataFrames.DataFrame\n",
       "│ Row │ sepal_length │ sepal_width │ petal_length │ petal_width │ species     │\n",
       "├─────┼──────────────┼─────────────┼──────────────┼─────────────┼─────────────┤\n",
       "│ 1   │ 5.1          │ 3.5         │ 1.4          │ 0.2         │ \"setosa\"    │\n",
       "│ 2   │ 4.9          │ 3.0         │ 1.4          │ 0.2         │ \"setosa\"    │\n",
       "│ 3   │ 4.7          │ 3.2         │ 1.3          │ 0.2         │ \"setosa\"    │\n",
       "│ 4   │ 4.6          │ 3.1         │ 1.5          │ 0.2         │ \"setosa\"    │\n",
       "│ 5   │ 5.0          │ 3.6         │ 1.4          │ 0.2         │ \"setosa\"    │\n",
       "│ 6   │ 5.4          │ 3.9         │ 1.7          │ 0.4         │ \"setosa\"    │\n",
       "│ 7   │ 4.6          │ 3.4         │ 1.4          │ 0.3         │ \"setosa\"    │\n",
       "│ 8   │ 5.0          │ 3.4         │ 1.5          │ 0.2         │ \"setosa\"    │\n",
       "│ 9   │ 4.4          │ 2.9         │ 1.4          │ 0.2         │ \"setosa\"    │\n",
       "│ 10  │ 4.9          │ 3.1         │ 1.5          │ 0.1         │ \"setosa\"    │\n",
       "│ 11  │ 5.4          │ 3.7         │ 1.5          │ 0.2         │ \"setosa\"    │\n",
       "⋮\n",
       "│ 139 │ 6.0          │ 3.0         │ 4.8          │ 1.8         │ \"virginica\" │\n",
       "│ 140 │ 6.9          │ 3.1         │ 5.4          │ 2.1         │ \"virginica\" │\n",
       "│ 141 │ 6.7          │ 3.1         │ 5.6          │ 2.4         │ \"virginica\" │\n",
       "│ 142 │ 6.9          │ 3.1         │ 5.1          │ 2.3         │ \"virginica\" │\n",
       "│ 143 │ 5.8          │ 2.7         │ 5.1          │ 1.9         │ \"virginica\" │\n",
       "│ 144 │ 6.8          │ 3.2         │ 5.9          │ 2.3         │ \"virginica\" │\n",
       "│ 145 │ 6.7          │ 3.3         │ 5.7          │ 2.5         │ \"virginica\" │\n",
       "│ 146 │ 6.7          │ 3.0         │ 5.2          │ 2.3         │ \"virginica\" │\n",
       "│ 147 │ 6.3          │ 2.5         │ 5.0          │ 1.9         │ \"virginica\" │\n",
       "│ 148 │ 6.5          │ 3.0         │ 5.2          │ 2.0         │ \"virginica\" │\n",
       "│ 149 │ 6.2          │ 3.4         │ 5.4          │ 2.3         │ \"virginica\" │\n",
       "│ 150 │ 5.9          │ 3.0         │ 5.1          │ 1.8         │ \"virginica\" │"
      ]
     },
     "execution_count": 2,
     "metadata": {},
     "output_type": "execute_result"
    }
   ],
   "source": [
    "using DataFrames\n",
    "using DataStreams\n",
    "using CSV\n",
    "iris_csv = CSV.Source(joinpath(Pkg.dir(\"TablesDemo\"), \"csv/iris.csv\"))\n",
    "iris = Data.stream!(iris_csv, DataFrame(Data.schema(iris_csv)), false) # Thanks, @quinnj"
   ]
  },
  {
   "cell_type": "markdown",
   "metadata": {
    "slideshow": {
     "slide_type": "slide"
    }
   },
   "source": [
    "Suppose we want to restrict to rows whose value for `sepal_length` is greater than `7.5`."
   ]
  },
  {
   "cell_type": "markdown",
   "metadata": {},
   "source": [
    "\n",
    "## Vector-based row indexing into `DataFrame`s\n",
    "\n"
   ]
  },
  {
   "cell_type": "code",
   "execution_count": null,
   "metadata": {
    "collapsed": true
   },
   "outputs": [],
   "source": [
    "iris[iris[:sepal_length] .> 7.5]"
   ]
  },
  {
   "cell_type": "markdown",
   "metadata": {},
   "source": [
    "## DataFramesMeta.jl\n"
   ]
  },
  {
   "cell_type": "code",
   "execution_count": null,
   "metadata": {
    "collapsed": true
   },
   "outputs": [],
   "source": [
    "using DataFramesMeta #?\n",
    "@where iris :sepal_length .> 7.5"
   ]
  },
  {
   "cell_type": "markdown",
   "metadata": {},
   "source": [
    "Simon Byrne's [JuliaCon 2016 talk](https://www.youtube.com/watch?v=ScCY_nE0hlU) has a good discussion of these approaches."
   ]
  },
  {
   "cell_type": "markdown",
   "metadata": {
    "slideshow": {
     "slide_type": "slide"
    }
   },
   "source": [
    "# `@query`\n",
    "\n",
    "SQ provides the `@query` macro with which to describe a query/series of manipulations against a data source, e.g."
   ]
  },
  {
   "cell_type": "code",
   "execution_count": 3,
   "metadata": {
    "collapsed": false
   },
   "outputs": [
    {
     "data": {
      "text/plain": [
       "Query against a source of type DataFrames.DataFrame"
      ]
     },
     "execution_count": 3,
     "metadata": {},
     "output_type": "execute_result"
    }
   ],
   "source": [
    "using StructuredQueries\n",
    "q = @query filter(iris, sepal_length > 7.5)"
   ]
  },
  {
   "cell_type": "markdown",
   "metadata": {},
   "source": [
    "We can inspect the representation of the original query using `graph`:"
   ]
  },
  {
   "cell_type": "code",
   "execution_count": 4,
   "metadata": {
    "collapsed": false
   },
   "outputs": [
    {
     "data": {
      "text/plain": [
       "FilterNode\n",
       "  arguments:\n",
       "      1)  sepal_length > 7.5\n",
       "  inputs:\n",
       "      1)  DataNode\n",
       "            source:  source of type DataFrame\n"
      ]
     },
     "execution_count": 4,
     "metadata": {},
     "output_type": "execute_result"
    }
   ],
   "source": [
    "graph(q)"
   ]
  },
  {
   "cell_type": "markdown",
   "metadata": {
    "slideshow": {
     "slide_type": "slide"
    }
   },
   "source": [
    "# What do I do with my `Query`? "
   ]
  },
  {
   "cell_type": "markdown",
   "metadata": {},
   "source": [
    "# Extend it\n",
    "\n",
    "One can extend a `Query` object by querying it:"
   ]
  },
  {
   "cell_type": "code",
   "execution_count": 5,
   "metadata": {
    "collapsed": false
   },
   "outputs": [
    {
     "data": {
      "text/plain": [
       "Query against a source of type DataFrames.DataFrame"
      ]
     },
     "execution_count": 5,
     "metadata": {},
     "output_type": "execute_result"
    }
   ],
   "source": [
    "q2 = @query q |> select(species, petal_width)"
   ]
  },
  {
   "cell_type": "code",
   "execution_count": 6,
   "metadata": {
    "collapsed": false
   },
   "outputs": [
    {
     "data": {
      "text/plain": [
       "SelectNode\n",
       "  arguments:\n",
       "      1)  species\n",
       "      2)  petal_width\n",
       "  inputs:\n",
       "      1)  FilterNode\n",
       "            arguments:\n",
       "                1)  sepal_length > 7.5\n",
       "            inputs:\n",
       "                1)  DataNode\n",
       "                      source:  source of type DataFrame\n"
      ]
     },
     "execution_count": 6,
     "metadata": {},
     "output_type": "execute_result"
    }
   ],
   "source": [
    "graph(q2)"
   ]
  },
  {
   "cell_type": "markdown",
   "metadata": {
    "slideshow": {
     "slide_type": "slide"
    }
   },
   "source": [
    "One can use such composability with functions, e.g."
   ]
  },
  {
   "cell_type": "code",
   "execution_count": 7,
   "metadata": {
    "collapsed": false
   },
   "outputs": [
    {
     "data": {
      "text/plain": [
       "SelectNode\n",
       "  arguments:\n",
       "      1)  petal_width\n",
       "  inputs:\n",
       "      1)  FilterNode\n",
       "            arguments:\n",
       "                1)  sepal_length > 7.5\n",
       "            inputs:\n",
       "                1)  DataNode\n",
       "                      source:  source of type DataFrame\n"
      ]
     },
     "execution_count": 7,
     "metadata": {},
     "output_type": "execute_result"
    }
   ],
   "source": [
    "f(q::Query) = @query q |> select(petal_width)\n",
    "q3 = f(@query filter(iris, sepal_length > 7.5))\n",
    "graph(q3)\n"
   ]
  },
  {
   "cell_type": "code",
   "execution_count": 8,
   "metadata": {
    "collapsed": false
   },
   "outputs": [
    {
     "data": {
      "text/plain": [
       "SelectNode\n",
       "  arguments:\n",
       "      1)  petal_width\n",
       "  inputs:\n",
       "      1)  FilterNode\n",
       "            arguments:\n",
       "                1)  sepal_width < petal_width\n",
       "            inputs:\n",
       "                1)  DataNode\n",
       "                      source:  source of type DataFrame\n"
      ]
     },
     "execution_count": 8,
     "metadata": {},
     "output_type": "execute_result"
    }
   ],
   "source": [
    "q4 = f(@query filter(iris, sepal_width < petal_width))\n",
    "graph(q4)"
   ]
  },
  {
   "cell_type": "markdown",
   "metadata": {
    "slideshow": {
     "slide_type": "slide"
    }
   },
   "source": [
    "# `collect` it\n",
    "\n",
    "Materialize a query as an in-memory Julia object (e.g. another `DataFrame`) using `collect`"
   ]
  },
  {
   "cell_type": "code",
   "execution_count": 9,
   "metadata": {
    "collapsed": false
   },
   "outputs": [
    {
     "ename": "LoadError",
     "evalue": "LoadError: MethodError: no method matching _collect(::DataFrames.DataFrame, ::StructuredQueries.FilterNode)\nwhile loading In[9], in expression starting on line 1",
     "output_type": "error",
     "traceback": [
      "LoadError: MethodError: no method matching _collect(::DataFrames.DataFrame, ::StructuredQueries.FilterNode)\nwhile loading In[9], in expression starting on line 1",
      "",
      " in _collect(::StructuredQueries.FilterNode) at /Users/David/.julia/v0.6/StructuredQueries/src/collect/collect.jl:10",
      " in collect(::StructuredQueries.Query) at /Users/David/.julia/v0.6/StructuredQueries/src/collect/collect.jl:7"
     ]
    }
   ],
   "source": [
    "collect(q)"
   ]
  },
  {
   "cell_type": "markdown",
   "metadata": {},
   "source": [
    "Whoops! StructuredQueries.jl only houses the graph-producing machinery. Collection machinery lives in another package..."
   ]
  },
  {
   "cell_type": "markdown",
   "metadata": {
    "slideshow": {
     "slide_type": "slide"
    }
   },
   "source": [
    "...(tentatively titled)"
   ]
  },
  {
   "cell_type": "code",
   "execution_count": 10,
   "metadata": {
    "collapsed": true
   },
   "outputs": [],
   "source": [
    "using Collect # NOTE: not registered"
   ]
  },
  {
   "cell_type": "code",
   "execution_count": 11,
   "metadata": {
    "collapsed": false
   },
   "outputs": [
    {
     "data": {
      "text/html": [
       "<table class=\"data-frame\"><tr><th></th><th>sepal_length</th><th>sepal_width</th><th>petal_length</th><th>petal_width</th><th>species</th></tr><tr><th>1</th><td>7.6</td><td>3.0</td><td>6.6</td><td>2.1</td><td>\"virginica\"</td></tr><tr><th>2</th><td>7.7</td><td>3.8</td><td>6.7</td><td>2.2</td><td>\"virginica\"</td></tr><tr><th>3</th><td>7.7</td><td>2.6</td><td>6.9</td><td>2.3</td><td>\"virginica\"</td></tr><tr><th>4</th><td>7.7</td><td>2.8</td><td>6.7</td><td>2.0</td><td>\"virginica\"</td></tr><tr><th>5</th><td>7.9</td><td>3.8</td><td>6.4</td><td>2.0</td><td>\"virginica\"</td></tr><tr><th>6</th><td>7.7</td><td>3.0</td><td>6.1</td><td>2.3</td><td>\"virginica\"</td></tr></table>"
      ],
      "text/plain": [
       "6×5 DataFrames.DataFrame\n",
       "│ Row │ sepal_length │ sepal_width │ petal_length │ petal_width │ species     │\n",
       "├─────┼──────────────┼─────────────┼──────────────┼─────────────┼─────────────┤\n",
       "│ 1   │ 7.6          │ 3.0         │ 6.6          │ 2.1         │ \"virginica\" │\n",
       "│ 2   │ 7.7          │ 3.8         │ 6.7          │ 2.2         │ \"virginica\" │\n",
       "│ 3   │ 7.7          │ 2.6         │ 6.9          │ 2.3         │ \"virginica\" │\n",
       "│ 4   │ 7.7          │ 2.8         │ 6.7          │ 2.0         │ \"virginica\" │\n",
       "│ 5   │ 7.9          │ 3.8         │ 6.4          │ 2.0         │ \"virginica\" │\n",
       "│ 6   │ 7.7          │ 3.0         │ 6.1          │ 2.3         │ \"virginica\" │"
      ]
     },
     "execution_count": 11,
     "metadata": {},
     "output_type": "execute_result"
    }
   ],
   "source": [
    "collect(q)"
   ]
  },
  {
   "cell_type": "markdown",
   "metadata": {
    "slideshow": {
     "slide_type": "slide"
    }
   },
   "source": [
    "\"Collect.jl\", or whatever it will be called, will re-export StructuredQueries.jl -- users will never have to write `using StructuredQueries`. "
   ]
  },
  {
   "cell_type": "markdown",
   "metadata": {},
   "source": [
    "SQ also provides a `@collect` macro that behaves the same as `@query` but automatically collects the resultant `Query`:"
   ]
  },
  {
   "cell_type": "code",
   "execution_count": 12,
   "metadata": {
    "collapsed": false
   },
   "outputs": [
    {
     "data": {
      "text/html": [
       "<table class=\"data-frame\"><tr><th></th><th>sepal_length</th><th>sepal_width</th><th>petal_length</th><th>petal_width</th><th>species</th></tr><tr><th>1</th><td>7.6</td><td>3.0</td><td>6.6</td><td>2.1</td><td>\"virginica\"</td></tr><tr><th>2</th><td>7.7</td><td>3.8</td><td>6.7</td><td>2.2</td><td>\"virginica\"</td></tr><tr><th>3</th><td>7.7</td><td>2.6</td><td>6.9</td><td>2.3</td><td>\"virginica\"</td></tr><tr><th>4</th><td>7.7</td><td>2.8</td><td>6.7</td><td>2.0</td><td>\"virginica\"</td></tr><tr><th>5</th><td>7.9</td><td>3.8</td><td>6.4</td><td>2.0</td><td>\"virginica\"</td></tr><tr><th>6</th><td>7.7</td><td>3.0</td><td>6.1</td><td>2.3</td><td>\"virginica\"</td></tr></table>"
      ],
      "text/plain": [
       "6×5 DataFrames.DataFrame\n",
       "│ Row │ sepal_length │ sepal_width │ petal_length │ petal_width │ species     │\n",
       "├─────┼──────────────┼─────────────┼──────────────┼─────────────┼─────────────┤\n",
       "│ 1   │ 7.6          │ 3.0         │ 6.6          │ 2.1         │ \"virginica\" │\n",
       "│ 2   │ 7.7          │ 3.8         │ 6.7          │ 2.2         │ \"virginica\" │\n",
       "│ 3   │ 7.7          │ 2.6         │ 6.9          │ 2.3         │ \"virginica\" │\n",
       "│ 4   │ 7.7          │ 2.8         │ 6.7          │ 2.0         │ \"virginica\" │\n",
       "│ 5   │ 7.9          │ 3.8         │ 6.4          │ 2.0         │ \"virginica\" │\n",
       "│ 6   │ 7.7          │ 3.0         │ 6.1          │ 2.3         │ \"virginica\" │"
      ]
     },
     "execution_count": 12,
     "metadata": {},
     "output_type": "execute_result"
    }
   ],
   "source": [
    "@collect iris |> filter(sepal_length > 7.5)"
   ]
  },
  {
   "cell_type": "markdown",
   "metadata": {
    "slideshow": {
     "slide_type": "slide"
    }
   },
   "source": [
    "# How does it work? (for `DataFrame`s)\n",
    "\n",
    "Without getting too much into the weeds, consider the following query"
   ]
  },
  {
   "cell_type": "code",
   "execution_count": 13,
   "metadata": {
    "collapsed": false
   },
   "outputs": [
    {
     "data": {
      "text/plain": [
       "FilterNode\n",
       "  arguments:\n",
       "      1)  sepal_length > 7.5\n",
       "  inputs:\n",
       "      1)  DataNode\n",
       "            source:  source of type DataFrame\n"
      ]
     },
     "execution_count": 13,
     "metadata": {},
     "output_type": "execute_result"
    }
   ],
   "source": [
    "graph(q)"
   ]
  },
  {
   "cell_type": "markdown",
   "metadata": {},
   "source": [
    "We transform the data source into an iterator over tuples, (currently via `zip`) and pass this iterator to an internal function that applies the filtering predicate to each row returned by the iterator. \n",
    "\n",
    "Note that passing the iterator through a function barrier circumvents type-inferability difficulties associated with naively indexing into a `DataFrame` by field, (e.g. naively trying to loop over `df[:sepal_length]`.\n",
    "\n",
    "If the predicate is satisfied, the function pushes the row to the result `DataFrame`. \n"
   ]
  },
  {
   "cell_type": "markdown",
   "metadata": {
    "slideshow": {
     "slide_type": "slide"
    }
   },
   "source": [
    "The filtering predicate itself is stored in the `FilterNode` object:"
   ]
  },
  {
   "cell_type": "code",
   "execution_count": 14,
   "metadata": {
    "collapsed": false
   },
   "outputs": [
    {
     "data": {
      "text/plain": [
       "1-element Array{StructuredQueries.FilterHelper,1}:\n",
       " StructuredQueries.FilterHelper{##3#4}(#3,Symbol[:sepal_length])"
      ]
     },
     "execution_count": 14,
     "metadata": {},
     "output_type": "execute_result"
    }
   ],
   "source": [
    "graph(q).helpers"
   ]
  },
  {
   "cell_type": "markdown",
   "metadata": {
    "slideshow": {
     "slide_type": "slide"
    }
   },
   "source": [
    "# Backend agnosticism\n",
    "\n",
    "For SQL database sources, we can transform the graph into appropriate SQL.\n",
    "\n",
    "See Yeesian Ng's (@yeesian) work at [SQLQuery](https://github.com/yeesian/SQLQuery.jl), in particular [PR #2](https://github.com/yeesian/SQLQuery.jl/pull/2)"
   ]
  },
  {
   "cell_type": "markdown",
   "metadata": {
    "slideshow": {
     "slide_type": "slide"
    }
   },
   "source": [
    "# What else can I do?"
   ]
  },
  {
   "cell_type": "markdown",
   "metadata": {
    "slideshow": {
     "slide_type": "slide"
    }
   },
   "source": [
    "# Projections / Transformations"
   ]
  },
  {
   "cell_type": "code",
   "execution_count": 19,
   "metadata": {
    "collapsed": false
   },
   "outputs": [
    {
     "data": {
      "text/html": [
       "<table class=\"data-frame\"><tr><th></th><th>species</th><th>twice_petal_width</th><th>something</th></tr><tr><th>1</th><td>\"setosa\"</td><td>0.4</td><td>0.150852</td></tr><tr><th>2</th><td>\"setosa\"</td><td>0.4</td><td>0.116766</td></tr><tr><th>3</th><td>\"setosa\"</td><td>0.4</td><td>0.0800386</td></tr><tr><th>4</th><td>\"setosa\"</td><td>0.4</td><td>0.0605702</td></tr><tr><th>5</th><td>\"setosa\"</td><td>0.4</td><td>0.134118</td></tr><tr><th>6</th><td>\"setosa\"</td><td>0.8</td><td>0.197703</td></tr><tr><th>7</th><td>\"setosa\"</td><td>0.6</td><td>0.0605702</td></tr><tr><th>8</th><td>\"setosa\"</td><td>0.4</td><td>0.134118</td></tr><tr><th>9</th><td>\"setosa\"</td><td>0.4</td><td>0.0191522</td></tr><tr><th>10</th><td>\"setosa\"</td><td>0.2</td><td>0.116766</td></tr><tr><th>11</th><td>\"setosa\"</td><td>0.4</td><td>0.197703</td></tr><tr><th>12</th><td>\"setosa\"</td><td>0.4</td><td>0.098754</td></tr><tr><th>13</th><td>\"setosa\"</td><td>0.2</td><td>0.098754</td></tr><tr><th>14</th><td>\"setosa\"</td><td>0.2</td><td>-0.00292362</td></tr><tr><th>15</th><td>\"setosa\"</td><td>0.4</td><td>0.253459</td></tr><tr><th>16</th><td>\"setosa\"</td><td>0.8</td><td>0.240162</td></tr><tr><th>17</th><td>\"setosa\"</td><td>0.8</td><td>0.197703</td></tr><tr><th>18</th><td>\"setosa\"</td><td>0.6</td><td>0.150852</td></tr><tr><th>19</th><td>\"setosa\"</td><td>0.6</td><td>0.240162</td></tr><tr><th>20</th><td>\"setosa\"</td><td>0.6</td><td>0.150852</td></tr><tr><th>21</th><td>\"setosa\"</td><td>0.4</td><td>0.197703</td></tr><tr><th>22</th><td>\"setosa\"</td><td>0.8</td><td>0.150852</td></tr><tr><th>23</th><td>\"setosa\"</td><td>0.4</td><td>0.0605702</td></tr><tr><th>24</th><td>\"setosa\"</td><td>1.0</td><td>0.150852</td></tr><tr><th>25</th><td>\"setosa\"</td><td>0.4</td><td>0.098754</td></tr><tr><th>26</th><td>\"setosa\"</td><td>0.4</td><td>0.134118</td></tr><tr><th>27</th><td>\"setosa\"</td><td>0.8</td><td>0.134118</td></tr><tr><th>28</th><td>\"setosa\"</td><td>0.4</td><td>0.167005</td></tr><tr><th>29</th><td>\"setosa\"</td><td>0.4</td><td>0.167005</td></tr><tr><th>30</th><td>\"setosa\"</td><td>0.4</td><td>0.0800386</td></tr><tr><th>&vellip;</th><td>&vellip;</td><td>&vellip;</td><td>&vellip;</td></tr></table>"
      ],
      "text/plain": [
       "150×3 DataFrames.DataFrame\n",
       "│ Row │ species     │ twice_petal_width │ something │\n",
       "├─────┼─────────────┼───────────────────┼───────────┤\n",
       "│ 1   │ \"setosa\"    │ 0.4               │ 0.150852  │\n",
       "│ 2   │ \"setosa\"    │ 0.4               │ 0.116766  │\n",
       "│ 3   │ \"setosa\"    │ 0.4               │ 0.0800386 │\n",
       "│ 4   │ \"setosa\"    │ 0.4               │ 0.0605702 │\n",
       "│ 5   │ \"setosa\"    │ 0.4               │ 0.134118  │\n",
       "│ 6   │ \"setosa\"    │ 0.8               │ 0.197703  │\n",
       "│ 7   │ \"setosa\"    │ 0.6               │ 0.0605702 │\n",
       "│ 8   │ \"setosa\"    │ 0.4               │ 0.134118  │\n",
       "│ 9   │ \"setosa\"    │ 0.4               │ 0.0191522 │\n",
       "│ 10  │ \"setosa\"    │ 0.2               │ 0.116766  │\n",
       "│ 11  │ \"setosa\"    │ 0.4               │ 0.197703  │\n",
       "⋮\n",
       "│ 139 │ \"virginica\" │ 3.6               │ 0.278901  │\n",
       "│ 140 │ \"virginica\" │ 4.2               │ 0.377645  │\n",
       "│ 141 │ \"virginica\" │ 4.8               │ 0.357633  │\n",
       "│ 142 │ \"virginica\" │ 4.6               │ 0.377645  │\n",
       "│ 143 │ \"virginica\" │ 3.8               │ 0.253459  │\n",
       "│ 144 │ \"virginica\" │ 4.6               │ 0.367761  │\n",
       "│ 145 │ \"virginica\" │ 5.0               │ 0.357633  │\n",
       "│ 146 │ \"virginica\" │ 4.6               │ 0.357633  │\n",
       "│ 147 │ \"virginica\" │ 3.8               │ 0.314453  │\n",
       "│ 148 │ \"virginica\" │ 4.0               │ 0.3366    │\n",
       "│ 149 │ \"virginica\" │ 4.6               │ 0.302928  │\n",
       "│ 150 │ \"virginica\" │ 3.6               │ 0.266366  │"
      ]
     },
     "execution_count": 19,
     "metadata": {},
     "output_type": "execute_result"
    }
   ],
   "source": [
    "@collect iris |>\n",
    "    select(\n",
    "        species,\n",
    "        twice_petal_width = 2 * petal_width,\n",
    "        something = digamma(log(sepal_length))\n",
    "    )"
   ]
  },
  {
   "cell_type": "markdown",
   "metadata": {
    "slideshow": {
     "slide_type": "slide"
    }
   },
   "source": [
    "# Grouping / Aggregation\n"
   ]
  },
  {
   "cell_type": "code",
   "execution_count": 23,
   "metadata": {
    "collapsed": false
   },
   "outputs": [
    {
     "data": {
      "text/plain": [
       "Grouped DataFrames.DataFrame\n",
       "Groupings by:\n",
       "    species \n",
       "    pred_1 (with alias :sepal_length > 0.5) \n",
       "Source: 3×3 DataFrames.DataFrame\n",
       "│ Row │ species      │ pred_1 │ res   │\n",
       "├─────┼──────────────┼────────┼───────┤\n",
       "│ 1   │ \"setosa\"     │ true   │ 0.244 │\n",
       "│ 2   │ \"versicolor\" │ true   │ 1.326 │\n",
       "│ 3   │ \"virginica\"  │ true   │ 2.026 │"
      ]
     },
     "execution_count": 23,
     "metadata": {},
     "output_type": "execute_result"
    },
    {
     "name": "stdout",
     "output_type": "stream",
     "text": [
      "\n"
     ]
    }
   ],
   "source": [
    "@collect iris |>\n",
    "    groupby(species, sepal_length > .5) |>\n",
    "    summarize(res = mean(petal_width))"
   ]
  },
  {
   "cell_type": "markdown",
   "metadata": {
    "slideshow": {
     "slide_type": "slide"
    }
   },
   "source": [
    "# Joins"
   ]
  },
  {
   "cell_type": "code",
   "execution_count": 32,
   "metadata": {
    "collapsed": false
   },
   "outputs": [
    {
     "data": {
      "text/html": [
       "<table class=\"data-frame\"><tr><th></th><th>A1</th><th>B1</th></tr><tr><th>1</th><td>1</td><td>8</td></tr><tr><th>2</th><td>3</td><td>7</td></tr><tr><th>3</th><td>2</td><td>9</td></tr><tr><th>4</th><td>1</td><td>3</td></tr><tr><th>5</th><td>3</td><td>3</td></tr><tr><th>6</th><td>1</td><td>9</td></tr><tr><th>7</th><td>1</td><td>4</td></tr><tr><th>8</th><td>1</td><td>6</td></tr><tr><th>9</th><td>1</td><td>6</td></tr><tr><th>10</th><td>2</td><td>5</td></tr></table>"
      ],
      "text/plain": [
       "10×2 DataFrames.DataFrame\n",
       "│ Row │ A1 │ B1 │\n",
       "├─────┼────┼────┤\n",
       "│ 1   │ 1  │ 8  │\n",
       "│ 2   │ 3  │ 7  │\n",
       "│ 3   │ 2  │ 9  │\n",
       "│ 4   │ 1  │ 3  │\n",
       "│ 5   │ 3  │ 3  │\n",
       "│ 6   │ 1  │ 9  │\n",
       "│ 7   │ 1  │ 4  │\n",
       "│ 8   │ 1  │ 6  │\n",
       "│ 9   │ 1  │ 6  │\n",
       "│ 10  │ 2  │ 5  │"
      ]
     },
     "execution_count": 32,
     "metadata": {},
     "output_type": "execute_result"
    }
   ],
   "source": [
    "df1 = DataFrame(\n",
    "    A1 = rand(1:3, 10),\n",
    "    B1 = rand(1:10, 10)\n",
    ")"
   ]
  },
  {
   "cell_type": "code",
   "execution_count": 31,
   "metadata": {
    "collapsed": false,
    "slideshow": {
     "slide_type": "subslide"
    }
   },
   "outputs": [
    {
     "data": {
      "text/html": [
       "<table class=\"data-frame\"><tr><th></th><th>A2</th><th>B2</th><th>C2</th></tr><tr><th>1</th><td>1</td><td>0.553672</td><td>blue</td></tr><tr><th>2</th><td>1</td><td>0.667555</td><td>green</td></tr><tr><th>3</th><td>2</td><td>0.609567</td><td>blue</td></tr><tr><th>4</th><td>3</td><td>0.998367</td><td>blue</td></tr><tr><th>5</th><td>3</td><td>0.9212</td><td>green</td></tr><tr><th>6</th><td>3</td><td>0.508623</td><td>blue</td></tr><tr><th>7</th><td>3</td><td>0.949373</td><td>blue</td></tr><tr><th>8</th><td>3</td><td>0.0672602</td><td>blue</td></tr><tr><th>9</th><td>2</td><td>0.709144</td><td>blue</td></tr><tr><th>10</th><td>3</td><td>0.675623</td><td>green</td></tr></table>"
      ],
      "text/plain": [
       "10×3 DataFrames.DataFrame\n",
       "│ Row │ A2 │ B2        │ C2    │\n",
       "├─────┼────┼───────────┼───────┤\n",
       "│ 1   │ 1  │ 0.553672  │ blue  │\n",
       "│ 2   │ 1  │ 0.667555  │ green │\n",
       "│ 3   │ 2  │ 0.609567  │ blue  │\n",
       "│ 4   │ 3  │ 0.998367  │ blue  │\n",
       "│ 5   │ 3  │ 0.9212    │ green │\n",
       "│ 6   │ 3  │ 0.508623  │ blue  │\n",
       "│ 7   │ 3  │ 0.949373  │ blue  │\n",
       "│ 8   │ 3  │ 0.0672602 │ blue  │\n",
       "│ 9   │ 2  │ 0.709144  │ blue  │\n",
       "│ 10  │ 3  │ 0.675623  │ green │"
      ]
     },
     "execution_count": 31,
     "metadata": {},
     "output_type": "execute_result"
    }
   ],
   "source": [
    "df2 = DataFrame(\n",
    "    A2 = rand(1:3, 10),\n",
    "    B2 = rand(10),\n",
    "    C2 = rand([\"green\", \"blue\"], 10)\n",
    ")"
   ]
  },
  {
   "cell_type": "code",
   "execution_count": 33,
   "metadata": {
    "collapsed": false,
    "slideshow": {
     "slide_type": "subslide"
    }
   },
   "outputs": [
    {
     "data": {
      "text/html": [
       "<table class=\"data-frame\"><tr><th></th><th>A2</th><th>B2</th><th>C2</th><th>A1</th><th>B1</th></tr><tr><th>1</th><td>1</td><td>0.553672</td><td>blue</td><td>1</td><td>8</td></tr><tr><th>2</th><td>1</td><td>0.553672</td><td>blue</td><td>1</td><td>3</td></tr><tr><th>3</th><td>1</td><td>0.553672</td><td>blue</td><td>1</td><td>9</td></tr><tr><th>4</th><td>1</td><td>0.553672</td><td>blue</td><td>1</td><td>4</td></tr><tr><th>5</th><td>1</td><td>0.553672</td><td>blue</td><td>1</td><td>6</td></tr><tr><th>6</th><td>1</td><td>0.553672</td><td>blue</td><td>1</td><td>6</td></tr><tr><th>7</th><td>1</td><td>0.667555</td><td>green</td><td>1</td><td>8</td></tr><tr><th>8</th><td>1</td><td>0.667555</td><td>green</td><td>1</td><td>3</td></tr><tr><th>9</th><td>1</td><td>0.667555</td><td>green</td><td>1</td><td>9</td></tr><tr><th>10</th><td>1</td><td>0.667555</td><td>green</td><td>1</td><td>4</td></tr><tr><th>11</th><td>1</td><td>0.667555</td><td>green</td><td>1</td><td>6</td></tr><tr><th>12</th><td>1</td><td>0.667555</td><td>green</td><td>1</td><td>6</td></tr><tr><th>13</th><td>2</td><td>0.609567</td><td>blue</td><td>2</td><td>9</td></tr><tr><th>14</th><td>2</td><td>0.609567</td><td>blue</td><td>2</td><td>5</td></tr><tr><th>15</th><td>3</td><td>0.998367</td><td>blue</td><td>3</td><td>7</td></tr><tr><th>16</th><td>3</td><td>0.998367</td><td>blue</td><td>3</td><td>3</td></tr><tr><th>17</th><td>3</td><td>0.9212</td><td>green</td><td>3</td><td>7</td></tr><tr><th>18</th><td>3</td><td>0.9212</td><td>green</td><td>3</td><td>3</td></tr><tr><th>19</th><td>3</td><td>0.508623</td><td>blue</td><td>3</td><td>7</td></tr><tr><th>20</th><td>3</td><td>0.508623</td><td>blue</td><td>3</td><td>3</td></tr><tr><th>21</th><td>3</td><td>0.949373</td><td>blue</td><td>3</td><td>7</td></tr><tr><th>22</th><td>3</td><td>0.949373</td><td>blue</td><td>3</td><td>3</td></tr><tr><th>23</th><td>3</td><td>0.0672602</td><td>blue</td><td>3</td><td>7</td></tr><tr><th>24</th><td>3</td><td>0.0672602</td><td>blue</td><td>3</td><td>3</td></tr><tr><th>25</th><td>2</td><td>0.709144</td><td>blue</td><td>2</td><td>9</td></tr><tr><th>26</th><td>2</td><td>0.709144</td><td>blue</td><td>2</td><td>5</td></tr><tr><th>27</th><td>3</td><td>0.675623</td><td>green</td><td>3</td><td>7</td></tr><tr><th>28</th><td>3</td><td>0.675623</td><td>green</td><td>3</td><td>3</td></tr></table>"
      ],
      "text/plain": [
       "28×5 DataFrames.DataFrame\n",
       "│ Row │ A2 │ B2        │ C2    │ A1 │ B1 │\n",
       "├─────┼────┼───────────┼───────┼────┼────┤\n",
       "│ 1   │ 1  │ 0.553672  │ blue  │ 1  │ 8  │\n",
       "│ 2   │ 1  │ 0.553672  │ blue  │ 1  │ 3  │\n",
       "│ 3   │ 1  │ 0.553672  │ blue  │ 1  │ 9  │\n",
       "│ 4   │ 1  │ 0.553672  │ blue  │ 1  │ 4  │\n",
       "│ 5   │ 1  │ 0.553672  │ blue  │ 1  │ 6  │\n",
       "│ 6   │ 1  │ 0.553672  │ blue  │ 1  │ 6  │\n",
       "│ 7   │ 1  │ 0.667555  │ green │ 1  │ 8  │\n",
       "│ 8   │ 1  │ 0.667555  │ green │ 1  │ 3  │\n",
       "│ 9   │ 1  │ 0.667555  │ green │ 1  │ 9  │\n",
       "│ 10  │ 1  │ 0.667555  │ green │ 1  │ 4  │\n",
       "│ 11  │ 1  │ 0.667555  │ green │ 1  │ 6  │\n",
       "⋮\n",
       "│ 17  │ 3  │ 0.9212    │ green │ 3  │ 7  │\n",
       "│ 18  │ 3  │ 0.9212    │ green │ 3  │ 3  │\n",
       "│ 19  │ 3  │ 0.508623  │ blue  │ 3  │ 7  │\n",
       "│ 20  │ 3  │ 0.508623  │ blue  │ 3  │ 3  │\n",
       "│ 21  │ 3  │ 0.949373  │ blue  │ 3  │ 7  │\n",
       "│ 22  │ 3  │ 0.949373  │ blue  │ 3  │ 3  │\n",
       "│ 23  │ 3  │ 0.0672602 │ blue  │ 3  │ 7  │\n",
       "│ 24  │ 3  │ 0.0672602 │ blue  │ 3  │ 3  │\n",
       "│ 25  │ 2  │ 0.709144  │ blue  │ 2  │ 9  │\n",
       "│ 26  │ 2  │ 0.709144  │ blue  │ 2  │ 5  │\n",
       "│ 27  │ 3  │ 0.675623  │ green │ 3  │ 7  │\n",
       "│ 28  │ 3  │ 0.675623  │ green │ 3  │ 3  │"
      ]
     },
     "execution_count": 33,
     "metadata": {},
     "output_type": "execute_result"
    }
   ],
   "source": [
    "@collect join(df1, df2, A1 = A2)"
   ]
  },
  {
   "cell_type": "code",
   "execution_count": 34,
   "metadata": {
    "collapsed": false,
    "slideshow": {
     "slide_type": "subslide"
    }
   },
   "outputs": [
    {
     "data": {
      "text/html": [
       "<table class=\"data-frame\"><tr><th></th><th>A2</th><th>B2</th><th>C2</th><th>A1</th><th>B1</th></tr><tr><th>1</th><td>1</td><td>0.553672</td><td>blue</td><td>1</td><td>8</td></tr><tr><th>2</th><td>1</td><td>0.553672</td><td>blue</td><td>1</td><td>3</td></tr><tr><th>3</th><td>1</td><td>0.553672</td><td>blue</td><td>1</td><td>9</td></tr><tr><th>4</th><td>1</td><td>0.553672</td><td>blue</td><td>1</td><td>4</td></tr><tr><th>5</th><td>1</td><td>0.553672</td><td>blue</td><td>1</td><td>6</td></tr><tr><th>6</th><td>1</td><td>0.553672</td><td>blue</td><td>1</td><td>6</td></tr><tr><th>7</th><td>1</td><td>0.667555</td><td>green</td><td>1</td><td>8</td></tr><tr><th>8</th><td>1</td><td>0.667555</td><td>green</td><td>1</td><td>3</td></tr><tr><th>9</th><td>1</td><td>0.667555</td><td>green</td><td>1</td><td>9</td></tr><tr><th>10</th><td>1</td><td>0.667555</td><td>green</td><td>1</td><td>4</td></tr><tr><th>11</th><td>1</td><td>0.667555</td><td>green</td><td>1</td><td>6</td></tr><tr><th>12</th><td>1</td><td>0.667555</td><td>green</td><td>1</td><td>6</td></tr><tr><th>13</th><td>2</td><td>0.609567</td><td>blue</td><td>1</td><td>8</td></tr><tr><th>14</th><td>2</td><td>0.609567</td><td>blue</td><td>1</td><td>3</td></tr><tr><th>15</th><td>2</td><td>0.609567</td><td>blue</td><td>1</td><td>9</td></tr><tr><th>16</th><td>2</td><td>0.609567</td><td>blue</td><td>1</td><td>4</td></tr><tr><th>17</th><td>2</td><td>0.609567</td><td>blue</td><td>1</td><td>6</td></tr><tr><th>18</th><td>2</td><td>0.609567</td><td>blue</td><td>1</td><td>6</td></tr><tr><th>19</th><td>3</td><td>0.998367</td><td>blue</td><td>1</td><td>8</td></tr><tr><th>20</th><td>3</td><td>0.998367</td><td>blue</td><td>1</td><td>3</td></tr><tr><th>21</th><td>3</td><td>0.998367</td><td>blue</td><td>1</td><td>9</td></tr><tr><th>22</th><td>3</td><td>0.998367</td><td>blue</td><td>1</td><td>4</td></tr><tr><th>23</th><td>3</td><td>0.998367</td><td>blue</td><td>1</td><td>6</td></tr><tr><th>24</th><td>3</td><td>0.998367</td><td>blue</td><td>1</td><td>6</td></tr><tr><th>25</th><td>3</td><td>0.9212</td><td>green</td><td>1</td><td>8</td></tr><tr><th>26</th><td>3</td><td>0.9212</td><td>green</td><td>1</td><td>3</td></tr><tr><th>27</th><td>3</td><td>0.9212</td><td>green</td><td>1</td><td>9</td></tr><tr><th>28</th><td>3</td><td>0.9212</td><td>green</td><td>1</td><td>4</td></tr><tr><th>29</th><td>3</td><td>0.9212</td><td>green</td><td>1</td><td>6</td></tr><tr><th>30</th><td>3</td><td>0.9212</td><td>green</td><td>1</td><td>6</td></tr><tr><th>&vellip;</th><td>&vellip;</td><td>&vellip;</td><td>&vellip;</td><td>&vellip;</td><td>&vellip;</td></tr></table>"
      ],
      "text/plain": [
       "56×5 DataFrames.DataFrame\n",
       "│ Row │ A2 │ B2       │ C2    │ A1 │ B1 │\n",
       "├─────┼────┼──────────┼───────┼────┼────┤\n",
       "│ 1   │ 1  │ 0.553672 │ blue  │ 1  │ 8  │\n",
       "│ 2   │ 1  │ 0.553672 │ blue  │ 1  │ 3  │\n",
       "│ 3   │ 1  │ 0.553672 │ blue  │ 1  │ 9  │\n",
       "│ 4   │ 1  │ 0.553672 │ blue  │ 1  │ 4  │\n",
       "│ 5   │ 1  │ 0.553672 │ blue  │ 1  │ 6  │\n",
       "│ 6   │ 1  │ 0.553672 │ blue  │ 1  │ 6  │\n",
       "│ 7   │ 1  │ 0.667555 │ green │ 1  │ 8  │\n",
       "│ 8   │ 1  │ 0.667555 │ green │ 1  │ 3  │\n",
       "│ 9   │ 1  │ 0.667555 │ green │ 1  │ 9  │\n",
       "│ 10  │ 1  │ 0.667555 │ green │ 1  │ 4  │\n",
       "│ 11  │ 1  │ 0.667555 │ green │ 1  │ 6  │\n",
       "⋮\n",
       "│ 45  │ 2  │ 0.709144 │ blue  │ 1  │ 8  │\n",
       "│ 46  │ 2  │ 0.709144 │ blue  │ 1  │ 3  │\n",
       "│ 47  │ 2  │ 0.709144 │ blue  │ 1  │ 9  │\n",
       "│ 48  │ 2  │ 0.709144 │ blue  │ 1  │ 4  │\n",
       "│ 49  │ 2  │ 0.709144 │ blue  │ 1  │ 6  │\n",
       "│ 50  │ 2  │ 0.709144 │ blue  │ 1  │ 6  │\n",
       "│ 51  │ 3  │ 0.675623 │ green │ 1  │ 8  │\n",
       "│ 52  │ 3  │ 0.675623 │ green │ 1  │ 3  │\n",
       "│ 53  │ 3  │ 0.675623 │ green │ 1  │ 9  │\n",
       "│ 54  │ 3  │ 0.675623 │ green │ 1  │ 4  │\n",
       "│ 55  │ 3  │ 0.675623 │ green │ 1  │ 6  │\n",
       "│ 56  │ 3  │ 0.675623 │ green │ 1  │ 6  │"
      ]
     },
     "execution_count": 34,
     "metadata": {},
     "output_type": "execute_result"
    }
   ],
   "source": [
    "@collect join(df1, df2, A1 = ifelse(B2 > .5, 1, 3))"
   ]
  },
  {
   "cell_type": "markdown",
   "metadata": {
    "slideshow": {
     "slide_type": "slide"
    }
   },
   "source": [
    "# Issues/TODOs\n",
    "\n",
    "* Name resolution\n",
    "    * Current parsing machinery assumes that all unadorned names inside function calls are \"attributes\"\n",
    "    * What if I want to do \n",
    "    \n",
    "    ```julia\n",
    "    @collect iris |> summarize(sum = reduce(+, sepal_length))\n",
    "    ```\n",
    "    ?\n",
    "    * Conversely, what if `f` is a field of some `df::DataFrame` whose respective column is a vector of functions? Then \n",
    "    ```julia\n",
    "    @collect select(f(a))\n",
    "    ``` \n",
    "    will not work as expected, because names of *called* functions are inherited from enclosing scope.\n",
    "* Interpolation/parametrized queries\n",
    "    * `@collect summarize($c * A)`\n",
    "* Implementation-wise...\n",
    "    * Joins like all get out (c.f. Jamie Brandon's [blog post](http://scattered-thoughts.net/blog/2016/10/11/a-practical-relational-query-compiler-in-500-lines/) on [Imp](https://github.com/jamii/imp) (!))"
   ]
  },
  {
   "cell_type": "markdown",
   "metadata": {
    "slideshow": {
     "slide_type": "slide"
    }
   },
   "source": [
    "# But where are the benchmarks?\n",
    "\n",
    "\\>_>"
   ]
  },
  {
   "cell_type": "markdown",
   "metadata": {
    "slideshow": {
     "slide_type": "slide"
    }
   },
   "source": [
    "# ~~Ruining(?)~~ ~~Bettering(?)~~ Revising the Interface"
   ]
  },
  {
   "cell_type": "code",
   "execution_count": 1,
   "metadata": {
    "collapsed": false,
    "slideshow": {
     "slide_type": "-"
    }
   },
   "outputs": [
    {
     "name": "stderr",
     "output_type": "stream",
     "text": [
      "INFO: Checking out StructuredQueries with...\n",
      "INFO: Pulling StructuredQueries latest with...\n",
      "WARNING: DataFrames is fixed at 0.8.3+ conflicting with requirement for Collect: [0.9.0,∞)\n",
      "WARNING: AbstractTables is fixed at 0.0.0- conflicting with requirement for TablesDemo: [0.0.1,∞)\n",
      "INFO: No packages to install, update or remove\n"
     ]
    }
   ],
   "source": [
    "# Restart the jupyter kernel\n",
    "Pkg.checkout(\"StructuredQueries\", \"with\")\n",
    "using StructuredQueries"
   ]
  },
  {
   "cell_type": "markdown",
   "metadata": {
    "slideshow": {
     "slide_type": "slide"
    }
   },
   "source": [
    "# Revised interface"
   ]
  },
  {
   "cell_type": "code",
   "execution_count": 18,
   "metadata": {
    "collapsed": false,
    "slideshow": {
     "slide_type": "-"
    }
   },
   "outputs": [],
   "source": [
    "tbl = DataFrame(\n",
    "    A = rand(10),\n",
    "    B = rand(10)\n",
    ");"
   ]
  },
  {
   "cell_type": "code",
   "execution_count": 19,
   "metadata": {
    "collapsed": false,
    "slideshow": {
     "slide_type": "-"
    }
   },
   "outputs": [
    {
     "data": {
      "text/plain": [
       "Query against a source of type Tuple{DataFrames.DataFrame}"
      ]
     },
     "execution_count": 19,
     "metadata": {},
     "output_type": "execute_result"
    }
   ],
   "source": [
    "q = @with tbl(i) do\n",
    "    filter(i.A > .5)\n",
    "    select(C = 5 * i.B)\n",
    "end"
   ]
  },
  {
   "cell_type": "markdown",
   "metadata": {
    "slideshow": {
     "slide_type": "-"
    }
   },
   "source": [
    "`i` denotes a \"row token\" that represents an arbitrary row of `tbl` in row-wise operations, such as `filter`ing by row, above.\n",
    "\n",
    "Very much inspired by LINQ/Query.jl. However, tries to maintain conceptual focus of syntax on data as a whole, not just on iterative aspect. "
   ]
  },
  {
   "cell_type": "code",
   "execution_count": 20,
   "metadata": {
    "collapsed": false,
    "slideshow": {
     "slide_type": "-"
    }
   },
   "outputs": [
    {
     "data": {
      "text/plain": [
       "Node{:select}\n",
       "  arguments:\n",
       "      1)  C=5 * i.B\n",
       "  inputs:\n",
       "      1)  Node{:filter}\n",
       "            arguments:\n",
       "                1)  i.A > 0.5\n",
       "            inputs:\n",
       "                1)  DataNode{:DataFrames.DataFrame}\n",
       "                      source:  source of type DataFrame\n"
      ]
     },
     "execution_count": 20,
     "metadata": {},
     "output_type": "execute_result"
    }
   ],
   "source": [
    "graph(q)"
   ]
  },
  {
   "cell_type": "markdown",
   "metadata": {
    "slideshow": {
     "slide_type": "slide"
    }
   },
   "source": [
    "Supports a general yet compact in-line/single-verb syntax:"
   ]
  },
  {
   "cell_type": "code",
   "execution_count": 21,
   "metadata": {
    "collapsed": false,
    "slideshow": {
     "slide_type": "-"
    }
   },
   "outputs": [
    {
     "data": {
      "text/plain": [
       "Query against a source of type Tuple{DataFrames.DataFrame}"
      ]
     },
     "execution_count": 21,
     "metadata": {},
     "output_type": "execute_result"
    }
   ],
   "source": [
    "q = @with tbl(i) filter(i.A > .5)"
   ]
  },
  {
   "cell_type": "code",
   "execution_count": 22,
   "metadata": {
    "collapsed": false,
    "slideshow": {
     "slide_type": "-"
    }
   },
   "outputs": [
    {
     "data": {
      "text/plain": [
       "Node{:filter}\n",
       "  arguments:\n",
       "      1)  i.A > 0.5\n",
       "  inputs:\n",
       "      1)  DataNode{:DataFrames.DataFrame}\n",
       "            source:  source of type DataFrame\n"
      ]
     },
     "execution_count": 22,
     "metadata": {},
     "output_type": "execute_result"
    }
   ],
   "source": [
    "graph(q)"
   ]
  },
  {
   "cell_type": "markdown",
   "metadata": {
    "slideshow": {
     "slide_type": "slide"
    }
   },
   "source": [
    "## Join parsing\n",
    "\n",
    "Associating a \"row token\" with each data source encourages regime in which there is no one \"privileged\" data source argument to each manipulation verb, unlike as in the previously shown interface."
   ]
  },
  {
   "cell_type": "code",
   "execution_count": 24,
   "metadata": {
    "collapsed": true
   },
   "outputs": [],
   "source": [
    "tbl1, tbl2, tbl3, tbl4 = DataFrame(), DataFrame(), DataFrame(), DataFrame();"
   ]
  },
  {
   "cell_type": "code",
   "execution_count": 25,
   "metadata": {
    "collapsed": false
   },
   "outputs": [
    {
     "data": {
      "text/plain": [
       "Query against a source of type Tuple{Tuple{DataFrames.DataFrame},Tuple{DataFrames.DataFrame}}"
      ]
     },
     "execution_count": 25,
     "metadata": {},
     "output_type": "execute_result"
    }
   ],
   "source": [
    "q = @with tbl1(i), tbl2(j) filter(\n",
    "    i.A < j.B, i.C == \"foo\", i.D == j.D\n",
    ")"
   ]
  },
  {
   "cell_type": "markdown",
   "metadata": {},
   "source": [
    "Note the difference between the type of source shown immediately above and that listed in the `show`ing of `Query` objects earlier. "
   ]
  },
  {
   "cell_type": "code",
   "execution_count": 26,
   "metadata": {
    "collapsed": false,
    "slideshow": {
     "slide_type": "slide"
    }
   },
   "outputs": [
    {
     "data": {
      "text/plain": [
       "Node{:filter}\n",
       "  arguments:\n",
       "      1)  i.A < j.B\n",
       "  inputs:\n",
       "      1)  Node{:innerjoin}\n",
       "            arguments:\n",
       "                1)  i.D == j.D\n",
       "            inputs:\n",
       "                1)  DataNode{:DataFrames.DataFrame}\n",
       "                      source:  source of type DataFrame\n",
       "                2)  Node{:filter}\n",
       "                      arguments:\n",
       "                          1)  i.C == \"foo\"\n",
       "                      inputs:\n",
       "                          1)  DataNode{:DataFrames.DataFrame}\n",
       "                                source:  source of type DataFrame\n"
      ]
     },
     "execution_count": 26,
     "metadata": {},
     "output_type": "execute_result"
    }
   ],
   "source": [
    "graph(q)"
   ]
  },
  {
   "cell_type": "markdown",
   "metadata": {
    "slideshow": {
     "slide_type": "slide"
    }
   },
   "source": [
    "Things can get relatively complicated..."
   ]
  },
  {
   "cell_type": "code",
   "execution_count": 27,
   "metadata": {
    "collapsed": false,
    "slideshow": {
     "slide_type": "-"
    }
   },
   "outputs": [
    {
     "data": {
      "text/plain": [
       "Query against a source of type Tuple{Tuple{Tuple{DataFrames.DataFrame},Tuple{DataFrames.DataFrame}},Tuple{Tuple{DataFrames.DataFrame},Tuple{DataFrames.DataFrame}}}"
      ]
     },
     "execution_count": 27,
     "metadata": {},
     "output_type": "execute_result"
    }
   ],
   "source": [
    "q = @with tbl1(i), tbl2(j), tbl3(k), tbl4(h) do\n",
    "    filter(i.A > .5, i.B == j.B, baz(j.C) < .5)\n",
    "    filter(i.C < .5, j.D == \"foo\", k.D == h.D, digamma(k.E) > .5, h.F == \"bar\")\n",
    "    join(i.D == k.D)\n",
    "    groupby(f(i.A) < .5, k.D, g(j.B * k.C))\n",
    "end"
   ]
  },
  {
   "cell_type": "markdown",
   "metadata": {},
   "source": [
    "..."
   ]
  },
  {
   "cell_type": "code",
   "execution_count": 28,
   "metadata": {
    "collapsed": false,
    "slideshow": {
     "slide_type": "slide"
    }
   },
   "outputs": [
    {
     "data": {
      "text/plain": [
       "Node{:groupby}\n",
       "  arguments:\n",
       "      1)  f(i.A) < 0.5\n",
       "      2)  k.D\n",
       "      3)  g(j.B * k.C)\n",
       "  inputs:\n",
       "      1)  Node{:innerjoin}\n",
       "            arguments:\n",
       "                1)  i.D == k.D\n",
       "            inputs:\n",
       "                1)  Node{:innerjoin}\n",
       "                      arguments:\n",
       "                          1)  k.D == h.D\n",
       "                      inputs:\n",
       "                          1)  Node{:filter}\n",
       "                                arguments:\n",
       "                                    1)  digamma(k.E) > 0.5\n",
       "                                inputs:\n",
       "                                    1)  DataNode{:DataFrames.DataFrame}\n",
       "                                          source:  source of type DataFrame\n",
       "                          2)  Node{:filter}\n",
       "                                arguments:\n",
       "                                    1)  h.F == \"bar\"\n",
       "                                inputs:\n",
       "                                    1)  DataNode{:DataFrames.DataFrame}\n",
       "                                          source:  source of type DataFrame\n",
       "                2)  Node{:filter}\n",
       "                      arguments:\n",
       "                          1)  i.C < 0.5\n",
       "                      inputs:\n",
       "                          1)  Node{:innerjoin}\n",
       "                                arguments:\n",
       "                                    1)  i.B == j.B\n",
       "                                inputs:\n",
       "                                    1)  Node{:filter}\n",
       "                                          arguments:\n",
       "                                              1)  baz(j.C) < 0.5\n",
       "                                          inputs:\n",
       "                                              1)  DataNode{:DataFrames.DataFrame}\n",
       "                                                    source:  source of type DataFrame\n",
       "                                    2)  Node{:filter}\n",
       "                                          arguments:\n",
       "                                              1)  i.A > 0.5\n",
       "                                          inputs:\n",
       "                                              1)  DataNode{:DataFrames.DataFrame}\n",
       "                                                    source:  source of type DataFrame\n"
      ]
     },
     "execution_count": 28,
     "metadata": {},
     "output_type": "execute_result"
    }
   ],
   "source": [
    "graph(q)"
   ]
  },
  {
   "cell_type": "markdown",
   "metadata": {
    "slideshow": {
     "slide_type": "slide"
    }
   },
   "source": [
    "## Advantages\n",
    "* Name resolution is more straightforward\n",
    "* Refer to attributes of a table in different contexts\n",
    "    * `i.A` is a \"row-wise\" context\n",
    "    * something like `:B` could be used as a \"column-context\"\n",
    "        * e.g. \n",
    "        ```julia\n",
    "        @with iris() select(avg = mean(:sepal_length))\n",
    "        ```\n",
    "      This also allows more flexibility in transforming after aggregating, e.g.\n",
    "      ```julia\n",
    "      @with iris() select(log_avg = log(mean(:sepal_length)))\n",
    "      ```\n",
    "    (This is possible in previously described interface as well)\n",
    "* Opens up possibilities for neat window function syntaxes, e.g.\n",
    "   ```julia\n",
    "   @with iris(i) filter(\n",
    "       i.sepal_length > mean([ j.sepal_length for j in iris if j.petal_width > i.petal_width ])\n",
    "   )\n",
    "   ```\n",
    "   (i.e. Restrict to observations `i` from `iris` whose value for `sepal_length` is greater than the mean of all values of `sepal_length` over observations `j` from `iris` whose value for `petal_width` is greater than the present observation `i`'s value of `petal_width`.)    \n",
    "   (However, such functionality is not generic.)\n",
    "* encourages generality of manipulation verbs over number of sources\n",
    "* Support for more LINQ/Query.jl-like generality over iterators\n"
   ]
  },
  {
   "cell_type": "markdown",
   "metadata": {
    "slideshow": {
     "slide_type": "slide"
    }
   },
   "source": [
    "## Disadvantages\n",
    "* Additional complexity\n",
    "    * for the user, e.g. one has to specify row tokens everywhere\n",
    "    * for the developer (ie., me): need to keep track of maps from tokens to maps from field names to column indices\n",
    "* Why is the data source name now a function call?\n",
    "* Abuse of `.` for denoting field reference\n",
    "    * (This wouldn't be a problem if we had named tuples!)\n",
    "    * can always use `Base.getfield` or a selector for actual field retrieval "
   ]
  },
  {
   "cell_type": "markdown",
   "metadata": {
    "slideshow": {
     "slide_type": "slide"
    }
   },
   "source": [
    "# Tabular Data Support More Generally\n",
    "\n",
    "SQ is a data manipulation interface. Julian data scientists may deal with data in `DataFrame`s. So, let's talk about `DataFrame`s. \n",
    "\n",
    "(Stage direction: get on soap box.)\n",
    "\n",
    "We said above that SQ works by iterating over a tuple-producing iterator. Query.jl works similarly. Iteration is fundamental to both implementations. \n",
    "\n",
    "So, we need row-wise iteration over the contents of a `DataFrame` to be fast. Which means that we need such iteration to be type-inferable. "
   ]
  },
  {
   "cell_type": "markdown",
   "metadata": {
    "slideshow": {
     "slide_type": "slide"
    }
   },
   "source": [
    "Naive iteration over `DataArray`s doesn't fit the bill:"
   ]
  },
  {
   "cell_type": "code",
   "execution_count": 29,
   "metadata": {
    "collapsed": false
   },
   "outputs": [
    {
     "name": "stdout",
     "output_type": "stream",
     "text": [
      "Variables:\n",
      "  #self#::Base.#next\n",
      "  x::DataArrays.DataArray{Int64,1}\n",
      "  state::Int64\n",
      "\n",
      "Body:\n",
      "  begin \n",
      "      return (Core.tuple)($(Expr(:invoke, MethodInstance for getindex(::DataArrays.DataArray{Int64,1}, ::Int64), :(DataArrays.getindex), :(x), :(state))),(Base.box)(Int64,(Base.add_int)(state::Int64,1)))::TUPLE{UNION{DATAARRAYS.NATYPE,INT64},INT64}\n",
      "  end::TUPLE{UNION{DATAARRAYS.NATYPE,INT64},INT64}\n"
     ]
    }
   ],
   "source": [
    "using DataArrays\n",
    "D = DataArray(1:10)\n",
    "@code_warntype next(D, start(D)) # not good"
   ]
  },
  {
   "cell_type": "markdown",
   "metadata": {
    "slideshow": {
     "slide_type": "slide"
    }
   },
   "source": [
    " `NullableArray`s are better\n",
    "\n"
   ]
  },
  {
   "cell_type": "code",
   "execution_count": 30,
   "metadata": {
    "collapsed": false
   },
   "outputs": [
    {
     "name": "stdout",
     "output_type": "stream",
     "text": [
      "Variables:\n",
      "  #self#::Base.#next\n",
      "  A::NullableArrays.NullableArray{Int64,1}\n",
      "  i::Tuple{Base.OneTo{Int64},Int64}\n",
      "  idx::Int64\n",
      "  s::Int64\n",
      "  #temp#@_6::Int64\n",
      "  #temp#@_7::Nullable{Int64}\n",
      "\n",
      "Body:\n",
      "  begin \n",
      "      SSAValue(3) = (Base.getfield)(i::Tuple{Base.OneTo{Int64},Int64},2)::Int64\n",
      "      SSAValue(5) = (Base.box)(Int64,(Base.add_int)(SSAValue(3),1))\n",
      "      #temp#@_6::Int64 = $(QuoteNode(1))\n",
      "      SSAValue(6) = (Base.box)(Int64,(Base.add_int)(1,1))\n",
      "      idx::Int64 = SSAValue(3)\n",
      "      #temp#@_6::Int64 = SSAValue(6)\n",
      "      SSAValue(7) = (Base.box)(Int64,(Base.add_int)(2,1))\n",
      "      s::Int64 = SSAValue(5)\n",
      "      #temp#@_6::Int64 = SSAValue(7)\n",
      "      SSAValue(8) = idx::Int64\n",
      "      $(Expr(:inbounds, false))\n",
      "      # meta: location /Users/David/.julia/v0.6/NullableArrays/src/indexing.jl getindex 22\n",
      "      #temp#@_7::Nullable{Int64} = (Base.select_value)((Base.arrayref)((Core.getfield)(A::NullableArrays.NullableArray{Int64,1},:isnull)::Array{Bool,1},SSAValue(8))::Bool,$(Expr(:new, Nullable{Int64}, false)),$(Expr(:new, Nullable{Int64}, true, :((Base.arrayref)((Core.getfield)(A,:values)::Array{Int64,1},SSAValue(8))::Int64))))::Nullable{Int64}\n",
      "      goto 16 # line 27:\n",
      "      16: \n",
      "      # meta: pop location\n",
      "      $(Expr(:inbounds, :pop))\n",
      "      return (Core.tuple)(#temp#@_7::Nullable{Int64},(Core.tuple)((Base.getfield)(i::Tuple{Base.OneTo{Int64},Int64},1)::Base.OneTo{Int64},s::Int64)::Tuple{Base.OneTo{Int64},Int64})::Tuple{Nullable{Int64},Tuple{Base.OneTo{Int64},Int64}}\n",
      "  end::Tuple{Nullable{Int64},Tuple{Base.OneTo{Int64},Int64}}\n"
     ]
    }
   ],
   "source": [
    "X = NullableArray(1:10)\n",
    "@code_warntype next(X, start(X))"
   ]
  },
  {
   "cell_type": "markdown",
   "metadata": {
    "slideshow": {
     "slide_type": "slide"
    }
   },
   "source": [
    "But now (on DataFrames.jl master, where `DataFrame`s are built on top of `NullableArray`s and `CategoricalArray`s), indexing into a `DataFrame` column returns a `Nullable`:"
   ]
  },
  {
   "cell_type": "code",
   "execution_count": 31,
   "metadata": {
    "collapsed": false
   },
   "outputs": [
    {
     "data": {
      "text/plain": [
       "Nullable{Float64}(5.1)"
      ]
     },
     "execution_count": 31,
     "metadata": {},
     "output_type": "execute_result"
    }
   ],
   "source": [
    "iris[1, :sepal_length]"
   ]
  },
  {
   "cell_type": "markdown",
   "metadata": {
    "slideshow": {
     "slide_type": "slide"
    }
   },
   "source": [
    "On the one hand, this is the whole point of using `NullableArray`s. On the other hand, it's a bit of a pain:"
   ]
  },
  {
   "cell_type": "code",
   "execution_count": 3,
   "metadata": {
    "collapsed": false
   },
   "outputs": [
    {
     "ename": "LoadError",
     "evalue": "LoadError: MethodError: no method matching *(::Int64, ::Nullable{Float64})\nClosest candidates are:\n  *(::Any, ::Any, !Matched::Any, !Matched::Any...) at operators.jl:287\n  *{S}(!Matched::Nullable{Union{}}, ::Nullable{S}) at /Users/David/.julia/v0.6/NullableArrays/src/operators.jl:139\n  *{T<:Union{Int128,Int16,Int32,Int64,Int8,UInt128,UInt16,UInt32,UInt64,UInt8}}(::T<:Union{Int128,Int16,Int32,Int64,Int8,UInt128,UInt16,UInt32,UInt64,UInt8}, !Matched::T<:Union{Int128,Int16,Int32,Int64,Int8,UInt128,UInt16,UInt32,UInt64,UInt8}) at int.jl:33\n  ...\nwhile loading In[3], in expression starting on line 2",
     "output_type": "error",
     "traceback": [
      "LoadError: MethodError: no method matching *(::Int64, ::Nullable{Float64})\nClosest candidates are:\n  *(::Any, ::Any, !Matched::Any, !Matched::Any...) at operators.jl:287\n  *{S}(!Matched::Nullable{Union{}}, ::Nullable{S}) at /Users/David/.julia/v0.6/NullableArrays/src/operators.jl:139\n  *{T<:Union{Int128,Int16,Int32,Int64,Int8,UInt128,UInt16,UInt32,UInt64,UInt8}}(::T<:Union{Int128,Int16,Int32,Int64,Int8,UInt128,UInt16,UInt32,UInt64,UInt8}, !Matched::T<:Union{Int128,Int16,Int32,Int64,Int8,UInt128,UInt16,UInt32,UInt64,UInt8}) at int.jl:33\n  ...\nwhile loading In[3], in expression starting on line 2",
      "",
      " in f(::Nullable{Float64}) at ./In[3]:1",
      " in broadcast_t(::Function, ::Type{Any}, ::NullableArrays.NullableArray{Float64,1}, ::Vararg{NullableArrays.NullableArray{Float64,1},N}) at ./broadcast.jl:245",
      " in broadcast(::Function, ::NullableArrays.NullableArray{Float64,1}) at ./broadcast.jl:19"
     ]
    }
   ],
   "source": [
    "f(x) = 2 * x\n",
    "f.(iris[:sepal_length])"
   ]
  },
  {
   "cell_type": "markdown",
   "metadata": {
    "slideshow": {
     "slide_type": "slide"
    }
   },
   "source": [
    "# How can we make `Nullable`s usable?\n",
    "\n",
    "I.e., how can we recover all functionality over non-`Nullable`s for argument signatures with `Nullable`s?\n",
    "\n",
    "This is often referred to as \"lifting\" functionality over `Nullable` arguments (modulo some technicalities)."
   ]
  },
  {
   "cell_type": "markdown",
   "metadata": {
    "slideshow": {
     "slide_type": "slide"
    }
   },
   "source": [
    "# Method extension\n",
    "\n",
    "One strategy is to manually extend each method such as `*` to handle signatures with `Nullable`s.\n"
   ]
  },
  {
   "cell_type": "code",
   "execution_count": 4,
   "metadata": {
    "collapsed": false
   },
   "outputs": [
    {
     "data": {
      "text/plain": [
       "* (generic function with 154 methods)"
      ]
     },
     "execution_count": 4,
     "metadata": {},
     "output_type": "execute_result"
    }
   ],
   "source": [
    "import Base.*\n",
    "*(x, y::Nullable) = isnull(y) ? Nullable{T}() : Nullable(x * y.value)"
   ]
  },
  {
   "cell_type": "code",
   "execution_count": 5,
   "metadata": {
    "collapsed": false
   },
   "outputs": [
    {
     "data": {
      "text/plain": [
       "150-element Array{Nullable{Float64},1}:\n",
       " 10.2\n",
       " 9.8 \n",
       " 9.4 \n",
       " 9.2 \n",
       " 10.0\n",
       " 10.8\n",
       " 9.2 \n",
       " 10.0\n",
       " 8.8 \n",
       " 9.8 \n",
       " 10.8\n",
       " 9.6 \n",
       " 9.6 \n",
       " ⋮   \n",
       " 12.0\n",
       " 13.8\n",
       " 13.4\n",
       " 13.8\n",
       " 11.6\n",
       " 13.6\n",
       " 13.4\n",
       " 13.4\n",
       " 12.6\n",
       " 13.0\n",
       " 12.4\n",
       " 11.8"
      ]
     },
     "execution_count": 5,
     "metadata": {},
     "output_type": "execute_result"
    }
   ],
   "source": [
    "f.(iris[:sepal_length])"
   ]
  },
  {
   "cell_type": "markdown",
   "metadata": {
    "slideshow": {
     "slide_type": "slide"
    }
   },
   "source": [
    "## Advantages\n",
    "\n",
    "* Makes every such extended method work as expected\n",
    "* Properly propagate invariants in three-valued logic\n",
    "\n",
    "## Disadvantages\n",
    "\n",
    "* That's a lot of methods...\n",
    "* One might try to lift a small, core subset of functions and rely on generic dispatch for user-defined functions defined in terms of the core lifted functions, but this only works if the user-defined functions have untyped argumented signatures (in which case they can't take advantage of multiple dispatch), e.g."
   ]
  },
  {
   "cell_type": "code",
   "execution_count": 7,
   "metadata": {
    "collapsed": false
   },
   "outputs": [
    {
     "name": "stderr",
     "output_type": "stream",
     "text": [
      "WARNING: Method definition f(Any, Any) in module Main at In[6]:1 overwritten at In[7]:1.\n"
     ]
    },
    {
     "data": {
      "text/plain": [
       "Nullable{Int64}(2)"
      ]
     },
     "execution_count": 7,
     "metadata": {},
     "output_type": "execute_result"
    }
   ],
   "source": [
    "f(x, y) = x * y\n",
    "f(Nullable(1), Nullable(2))"
   ]
  },
  {
   "cell_type": "code",
   "execution_count": 13,
   "metadata": {
    "collapsed": false
   },
   "outputs": [
    {
     "name": "stderr",
     "output_type": "stream",
     "text": [
      "WARNING: Method definition g(Int64, Int64) in module Main at In[12]:1 overwritten at In[13]:1.\n",
      "WARNING: Method definition g(Float64, Float64) in module Main at In[12]:2 overwritten at In[13]:2.\n"
     ]
    },
    {
     "ename": "LoadError",
     "evalue": "LoadError: MethodError: no method matching g(::Nullable{Int64}, ::Nullable{Int64})\nwhile loading In[13], in expression starting on line 3",
     "output_type": "error",
     "traceback": [
      "LoadError: MethodError: no method matching g(::Nullable{Int64}, ::Nullable{Int64})\nwhile loading In[13], in expression starting on line 3",
      ""
     ]
    }
   ],
   "source": [
    "g(x::Int, y::Int) = x * y\n",
    "g(x::Float64, y::Float64) = x + y\n",
    "g(Nullable(1), Nullable(2))"
   ]
  },
  {
   "cell_type": "markdown",
   "metadata": {
    "slideshow": {
     "slide_type": "slide"
    }
   },
   "source": [
    "# Higher-order lifting\n",
    "\n",
    "Another way to go is to use a higher-order function, say, `lift`\n",
    "\n",
    "```julia\n",
    "@inline function lift(f, x1, x2)\n",
    "    if null_safe_op(f, typeof(x1), typeof(x2))\n",
    "        return @compat Nullable(\n",
    "            f(x1.value, x2.value), !(isnull(x1) | isnull(x2))\n",
    "        )\n",
    "    else\n",
    "        U = Core.Inference.return_type(\n",
    "            f, Tuple{eltype(typeof(x1)), eltype(typeof(x2))}\n",
    "        )\n",
    "        if isnull(x1) | isnull(x2)\n",
    "            return Nullable{U}()\n",
    "        else\n",
    "            return Nullable(f(unsafe_get(x1), unsafe_get(x2)))\n",
    "        end\n",
    "    end\n",
    "end\n",
    "```\n"
   ]
  },
  {
   "cell_type": "code",
   "execution_count": null,
   "metadata": {
    "collapsed": true,
    "slideshow": {
     "slide_type": "slide"
    }
   },
   "outputs": [],
   "source": [
    "Higher-order lifting is fully general..."
   ]
  },
  {
   "cell_type": "code",
   "execution_count": 14,
   "metadata": {
    "collapsed": false
   },
   "outputs": [
    {
     "ename": "LoadError",
     "evalue": "LoadError: MethodError: no method matching digamma(::Nullable{Float64})\nClosest candidates are:\n  digamma(!Matched::BigFloat) at mpfr.jl:465\n  digamma(!Matched::Union{Complex{Float64},Float64}) at special/gamma.jl:155\n  digamma(!Matched::Union{Complex{Float32},Float32}) at special/gamma.jl:494\n  ...\nwhile loading In[14], in expression starting on line 1",
     "output_type": "error",
     "traceback": [
      "LoadError: MethodError: no method matching digamma(::Nullable{Float64})\nClosest candidates are:\n  digamma(!Matched::BigFloat) at mpfr.jl:465\n  digamma(!Matched::Union{Complex{Float64},Float64}) at special/gamma.jl:155\n  digamma(!Matched::Union{Complex{Float32},Float32}) at special/gamma.jl:494\n  ...\nwhile loading In[14], in expression starting on line 1",
      ""
     ]
    }
   ],
   "source": [
    "digamma(Nullable(1.5))"
   ]
  },
  {
   "cell_type": "code",
   "execution_count": 16,
   "metadata": {
    "collapsed": false
   },
   "outputs": [
    {
     "data": {
      "text/plain": [
       "Nullable{Float64}(0.03649)"
      ]
     },
     "execution_count": 16,
     "metadata": {},
     "output_type": "execute_result"
    }
   ],
   "source": [
    "using StructuredQueries: lift\n",
    "lift(digamma, Nullable(1.5))"
   ]
  },
  {
   "cell_type": "markdown",
   "metadata": {},
   "source": [
    "... handles \"mixed-signature\" arguments"
   ]
  },
  {
   "cell_type": "code",
   "execution_count": 18,
   "metadata": {
    "collapsed": false
   },
   "outputs": [
    {
     "data": {
      "text/plain": [
       "Nullable{Float64}(0.669653)"
      ]
     },
     "execution_count": 18,
     "metadata": {},
     "output_type": "execute_result"
    }
   ],
   "source": [
    "h(x::Int, y::Float64) = log(x) * erf(y)\n",
    "lift(h, 2, Nullable(1.5))"
   ]
  },
  {
   "cell_type": "markdown",
   "metadata": {},
   "source": [
    "...as long as you write `lift` everywhere. =/"
   ]
  },
  {
   "cell_type": "markdown",
   "metadata": {
    "slideshow": {
     "slide_type": "slide"
    }
   },
   "source": [
    "SQ automatically replaces function calls `f(xs...)` with `lift(f, xs...)` everywhere. So, `NullableArray`-based `DataFrame`s will be usable, at least through querying macros such as those provided by StructuredQueries.jl (and also Query.jl, which employs a variant of the method-extension strategy described above).\n",
    "\n",
    "Arguably, it isn't satisfactory to rely on a quering framework to make the `Nullable` approach to missing values usable. Missingness and data manipulation are orthogonal.\n",
    "\n",
    "But as a matter of practicality, is it so bad? We have reason to encourage use of macro-based querying frameworks over the traditional indexing/vectorized `DataFrames` API anyway. Why not piggy-back a solution to the `Nullable` lifting problem?"
   ]
  },
  {
   "cell_type": "markdown",
   "metadata": {
    "slideshow": {
     "slide_type": "slide"
    }
   },
   "source": [
    "# An ideal solution??\n",
    "\n",
    "There may be none, but what about:\n",
    "\n",
    "* Split `Nullable` into two types -- one that propagates null values (`A`) and one that doesn't (`B`) -- and then automatically lower any call `f(xs...)` where any of the `xs...` are of type `A` to `lift(f, xs...)`. \n",
    "\n",
    "This is fully general, user-friendly, and properly "
   ]
  },
  {
   "cell_type": "markdown",
   "metadata": {},
   "source": [
    "## Other alternatives\n",
    "\n",
    "* Special case small `Union` types (e.g. `Union{NAtype, T}`)\n",
    "* Write code like [`broadcast` for DataArrays](https://github.com/JuliaStats/DataArrays.jl/blob/master/src/broadcast.jl)"
   ]
  },
  {
   "cell_type": "markdown",
   "metadata": {},
   "source": [
    "# Some Final Thoughts\n",
    "\n",
    "* StructuredQueries.jl, Query.jl and others are\n",
    "* DataStreams.jl "
   ]
  },
  {
   "cell_type": "code",
   "execution_count": null,
   "metadata": {
    "collapsed": true,
    "slideshow": {
     "slide_type": "slide"
    }
   },
   "outputs": [],
   "source": [
    "# I'm very grateful to"
   ]
  },
  {
   "cell_type": "markdown",
   "metadata": {},
   "source": [
    "* John Myles White (FaceBook)\n",
    "* Yeesian Ng (MIT)\n",
    "* Alan Edelman & Viral Shah (MIT, Julia Computing)\n",
    "* Many others at Julia Central and elsewhere\n",
    "\n",
    "* Thank you to Spencer Lyons and the NYC Julia users Meetup group for inviting me to speak, and thank you to ebay for hosting!"
   ]
  }
 ],
 "metadata": {
  "anaconda-cloud": {},
  "celltoolbar": "Slideshow",
  "kernelspec": {
   "display_name": "Julia 0.6.0-dev",
   "language": "julia",
   "name": "julia-0.6"
  },
  "language_info": {
   "file_extension": ".jl",
   "mimetype": "application/julia",
   "name": "julia",
   "version": "0.6.0"
  }
 },
 "nbformat": 4,
 "nbformat_minor": 1
}
