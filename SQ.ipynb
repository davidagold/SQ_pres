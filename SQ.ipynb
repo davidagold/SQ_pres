{
 "cells": [
  {
   "cell_type": "markdown",
   "metadata": {
    "slideshow": {
     "slide_type": "slide"
    }
   },
   "source": [
    "# Data Manipulation in Julia\n",
    "## David Gold\n",
    "### 10/26/16 - NYC Julia Users Meetup\n"
   ]
  },
  {
   "cell_type": "markdown",
   "metadata": {
    "slideshow": {
     "slide_type": "slide"
    }
   },
   "source": [
    "# About me\n",
    "* Ph.D. student in Deptartment of Statistics at the University of Washington\n",
    "* Worked on NullableArrays.jl at the Recurse Center over the summer of 2015"
   ]
  },
  {
   "cell_type": "markdown",
   "metadata": {
    "slideshow": {
     "slide_type": "slide"
    }
   },
   "source": [
    "# This Talk: Two Main Threads\n",
    "\n",
    "* StructuredQueries.jl (summer project at [Julia Labs](http://julia.mit.edu/))\n",
    "* Tabular data support in Julia more generally\n",
    "    * How data manipulation libraries are relevant to planned changes to DataFrames.jl\n",
    "\n",
    "### Main takeaway: we're (slowly) making progress"
   ]
  },
  {
   "cell_type": "markdown",
   "metadata": {
    "slideshow": {
     "slide_type": "slide"
    }
   },
   "source": [
    "## By the way\n",
    "\n",
    "StructuredQueries.jl and all that follows are works in progress and subject to change. There are design choices that need to be made, implementations that need to be cleaned up/tuned, etc.\n",
    "\n",
    "All that said, there is a release schedule in mind. "
   ]
  },
  {
   "cell_type": "markdown",
   "metadata": {
    "slideshow": {
     "slide_type": "slide"
    }
   },
   "source": [
    "# StructuredQueries.jl (SQ)\n",
    "\n",
    "### Query representation framework\n",
    "\n",
    "Goal: Represent the structure of a \"query\" with a directed acyclical graph (DAG) object\n",
    "* \"query\" like in SQL, or a series of manipulations applied to data, as in `dplyr`\n",
    "\n",
    "Why?\n",
    "* ~~Everybody else is using DAGs, so we should too~~\n",
    "* ~~DAG are my initials, and I want to name something in my package after myself~~\n",
    "* Doing so allows us to decouple a query's representation from its execution\n",
    "    * Queries can be generic over different backends (in-memory Julia objects, SQL databases)\n",
    "    * Solve the \"column-indexing\" problem\n",
    "    * Kind of solves the \"`Nullable` lifting\" problem\n",
    "\n",
    "(More on the column-indexing and lifting problems later)"
   ]
  },
  {
   "cell_type": "markdown",
   "metadata": {
    "slideshow": {
     "slide_type": "slide"
    }
   },
   "source": [
    "# What SQ does\n",
    "\n",
    "Consider the `iris` dataset."
   ]
  },
  {
   "cell_type": "code",
   "execution_count": 1,
   "metadata": {
    "collapsed": false
   },
   "outputs": [
    {
     "name": "stderr",
     "output_type": "stream",
     "text": [
      "INFO: Checking out DataFrames master...\n",
      "INFO: Pulling DataFrames latest master...\n",
      "WARNING: DataFrames is fixed at 0.8.3+ conflicting with requirement for Collect: [0.9.0,∞)\n",
      "WARNING: AbstractTables is fixed at 0.0.0- conflicting with requirement for TablesDemo: [0.0.1,∞)\n",
      "INFO: No packages to install, update or remove\n"
     ]
    }
   ],
   "source": [
    "Pkg.checkout(\"DataFrames\", \"master\") # at your own risk"
   ]
  },
  {
   "cell_type": "code",
   "execution_count": null,
   "metadata": {
    "collapsed": false
   },
   "outputs": [],
   "source": [
    "using DataFrames\n",
    "using DataStreams\n",
    "using CSV\n",
    "iris_csv = CSV.Source(joinpath(Pkg.dir(\"TablesDemo\"), \"csv/iris.csv\"))\n",
    "iris = Data.stream!(iris_csv, DataFrame(Data.schema(iris_csv)), false) # Thanks, @quinnj"
   ]
  },
  {
   "cell_type": "markdown",
   "metadata": {
    "slideshow": {
     "slide_type": "slide"
    }
   },
   "source": [
    "Suppose we want to restrict to rows whose value for `sepal_length` is greater than `7.5`."
   ]
  },
  {
   "cell_type": "markdown",
   "metadata": {},
   "source": [
    "\n",
    "## Vector-based row indexing into `DataFrame`s\n",
    "\n"
   ]
  },
  {
   "cell_type": "code",
   "execution_count": null,
   "metadata": {
    "collapsed": true
   },
   "outputs": [],
   "source": [
    "iris[iris[:sepal_length] .> 7.5]"
   ]
  },
  {
   "cell_type": "markdown",
   "metadata": {},
   "source": [
    "## DataFramesMeta.jl\n"
   ]
  },
  {
   "cell_type": "code",
   "execution_count": null,
   "metadata": {
    "collapsed": true
   },
   "outputs": [],
   "source": [
    "# using DataFramesMeta ?"
   ]
  },
  {
   "cell_type": "markdown",
   "metadata": {
    "slideshow": {
     "slide_type": "slide"
    }
   },
   "source": [
    "# `@query`\n",
    "\n",
    "SQ provides the `@query` macro with which to describe a query/series of manipulations against a data source, e.g."
   ]
  },
  {
   "cell_type": "code",
   "execution_count": null,
   "metadata": {
    "collapsed": false
   },
   "outputs": [],
   "source": [
    "using StructuredQueries\n",
    "q = @query filter(iris, sepal_length > 7.5)"
   ]
  },
  {
   "cell_type": "markdown",
   "metadata": {},
   "source": [
    "We can inspect the representation of the original query using `graph`:"
   ]
  },
  {
   "cell_type": "code",
   "execution_count": null,
   "metadata": {
    "collapsed": false
   },
   "outputs": [],
   "source": [
    "graph(q)"
   ]
  },
  {
   "cell_type": "markdown",
   "metadata": {
    "slideshow": {
     "slide_type": "slide"
    }
   },
   "source": [
    "# What do I do with my `Query`? "
   ]
  },
  {
   "cell_type": "markdown",
   "metadata": {},
   "source": [
    "# Extend it\n",
    "\n",
    "One can extend a `Query` object by querying it:"
   ]
  },
  {
   "cell_type": "code",
   "execution_count": null,
   "metadata": {
    "collapsed": false
   },
   "outputs": [],
   "source": [
    "q2 = @query q |> select(species, petal_width)"
   ]
  },
  {
   "cell_type": "markdown",
   "metadata": {
    "slideshow": {
     "slide_type": "slide"
    }
   },
   "source": [
    "One can use such composability with functions, e.g."
   ]
  },
  {
   "cell_type": "code",
   "execution_count": null,
   "metadata": {
    "collapsed": false
   },
   "outputs": [],
   "source": [
    "f(q::Query) = @query q |> select(petal_width)\n",
    "q3 = f(@query filter(iris, sepal_length > 7.5))\n",
    "graph(q3)\n"
   ]
  },
  {
   "cell_type": "code",
   "execution_count": null,
   "metadata": {
    "collapsed": false
   },
   "outputs": [],
   "source": [
    "q4 = f(@query filter(iris, sepal_width < petal_width))\n",
    "graph(q4)"
   ]
  },
  {
   "cell_type": "markdown",
   "metadata": {
    "slideshow": {
     "slide_type": "slide"
    }
   },
   "source": [
    "# `collect` it\n",
    "\n",
    "Materialize a query as an in-memory Julia object (e.g. another `DataFrame`) using `collect`"
   ]
  },
  {
   "cell_type": "code",
   "execution_count": null,
   "metadata": {
    "collapsed": false
   },
   "outputs": [],
   "source": [
    "collect(q)"
   ]
  },
  {
   "cell_type": "markdown",
   "metadata": {},
   "source": [
    "Whoops! StructuredQueries.jl only houses the graph-producing machinery. Collection machinery lives in another package..."
   ]
  },
  {
   "cell_type": "markdown",
   "metadata": {
    "slideshow": {
     "slide_type": "slide"
    }
   },
   "source": [
    "...(tentatively titled)"
   ]
  },
  {
   "cell_type": "code",
   "execution_count": null,
   "metadata": {
    "collapsed": true
   },
   "outputs": [],
   "source": [
    "using Collect"
   ]
  },
  {
   "cell_type": "code",
   "execution_count": null,
   "metadata": {
    "collapsed": false
   },
   "outputs": [],
   "source": [
    "collect(q)"
   ]
  },
  {
   "cell_type": "markdown",
   "metadata": {
    "slideshow": {
     "slide_type": "slide"
    }
   },
   "source": [
    "\"Collect.jl\", or whatever it will be called, will re-export StructuredQueries.jl -- users will never have to write `using StructuredQueries`. "
   ]
  },
  {
   "cell_type": "markdown",
   "metadata": {},
   "source": [
    "SQ also provides a `@collect` macro that behaves the same as `@query` but automatically collects the resultant `Query`:"
   ]
  },
  {
   "cell_type": "code",
   "execution_count": null,
   "metadata": {
    "collapsed": true
   },
   "outputs": [],
   "source": [
    "@collect iris |> filter(sepal_length > 7.5)"
   ]
  },
  {
   "cell_type": "markdown",
   "metadata": {
    "slideshow": {
     "slide_type": "slide"
    }
   },
   "source": [
    "# How does it work? (for `DataFrame`s)\n",
    "\n",
    "Without getting too much into the weeds, consider the following query"
   ]
  },
  {
   "cell_type": "code",
   "execution_count": null,
   "metadata": {
    "collapsed": true
   },
   "outputs": [],
   "source": [
    "graph(q)"
   ]
  },
  {
   "cell_type": "markdown",
   "metadata": {},
   "source": [
    "We transform the data source into an iterator over tuples, (currently via `zip`) and pass this iterator to an internal function that applies the filtering predicate to each row returned by the iterator. If the predicate is satisfied, the function pushes the row to the result `DataFrame`. The filtering predicate itself is stored in the `FilterNode` object.\n",
    "\n",
    "(Note that passing the iterator through a function barrier circumvents type-inferability difficulties associated with naively indexing into a `DataFrame` by field, (e.g. naively trying to loop over `df[:sepal_length]`).\n",
    "\n",
    "For SQL database sources, we can transform the graph into appropriate SQL.\n",
    "\n",
    "See Yeesian Ng's (@yeesian) work at [SQLQuery](https://github.com/yeesian/SQLQuery.jl), in particular [PR #2](https://github.com/yeesian/SQLQuery.jl/pull/2)"
   ]
  },
  {
   "cell_type": "markdown",
   "metadata": {},
   "source": [
    "# What else can I do?"
   ]
  },
  {
   "cell_type": "markdown",
   "metadata": {},
   "source": [
    "# Projections / Transformations"
   ]
  },
  {
   "cell_type": "code",
   "execution_count": null,
   "metadata": {
    "collapsed": true
   },
   "outputs": [],
   "source": [
    "@collect iris |>\n",
    "    select(\n",
    "        species,\n",
    "        twice_petal_width = 2 * petal_width,\n",
    "        something = digamma(ifelse(sepal_length > 7.0, rand(), 0.0))\n",
    "    )"
   ]
  },
  {
   "cell_type": "markdown",
   "metadata": {},
   "source": [
    "# Grouping / Aggregation\n"
   ]
  },
  {
   "cell_type": "code",
   "execution_count": null,
   "metadata": {
    "collapsed": true
   },
   "outputs": [],
   "source": [
    "@collect iris |>\n",
    "    groupby(species, sepal_length > .5) |>\n",
    "    summarize(res = mean(log(petal_width)))"
   ]
  },
  {
   "cell_type": "markdown",
   "metadata": {
    "slideshow": {
     "slide_type": "slide"
    }
   },
   "source": [
    "# Issues/TODOs\n",
    "\n",
    "* Name resolution\n",
    "    * Current parsing machinery assumes that all unadorned names inside function calls are \"attributes\"\n",
    "    * What if I want to do \n",
    "    \n",
    "    ```julia\n",
    "    @collect iris |> summarize(sum = reduce(+, sepal_length))\n",
    "    ```\n",
    "    ?\n",
    "    * Conversely, what if `f` is a field of some `df::DataFrame` whose respective column is a vector of functions? Then \n",
    "    ```julia\n",
    "    @collect select(f(a))\n",
    "    ``` \n",
    "    will not work as expected, because names of *called* functions are inherited from enclosing scope.\n",
    "* Interpolation/parametrized queries\n",
    "    * `@collect summarize($c * A)`\n",
    "* Implementation-wise...\n",
    "    * Joins like all get out (look at https://github.com/jamii/imp !)"
   ]
  },
  {
   "cell_type": "markdown",
   "metadata": {},
   "source": [
    "# But where are the benchmarks?\n",
    "\n",
    "\\>_>"
   ]
  },
  {
   "cell_type": "markdown",
   "metadata": {
    "slideshow": {
     "slide_type": "slide"
    }
   },
   "source": [
    "# ~~Ruining(?)~~ ~~Bettering(?)~~ Revising the Interface"
   ]
  },
  {
   "cell_type": "code",
   "execution_count": null,
   "metadata": {
    "collapsed": false,
    "slideshow": {
     "slide_type": "-"
    }
   },
   "outputs": [],
   "source": [
    "Pkg.checkout(\"StructuredQueries\", \"with\")\n",
    "Pkg.checkout(\"AbstractTables\", \"with\")\n",
    "using StructuredQueries"
   ]
  },
  {
   "cell_type": "markdown",
   "metadata": {
    "slideshow": {
     "slide_type": "slide"
    }
   },
   "source": [
    "# Revised interface"
   ]
  },
  {
   "cell_type": "code",
   "execution_count": null,
   "metadata": {
    "collapsed": false,
    "slideshow": {
     "slide_type": "-"
    }
   },
   "outputs": [],
   "source": [
    "tbl = DataFrame(\n",
    "    A = rand(10),\n",
    "    B = rand(10)\n",
    ");"
   ]
  },
  {
   "cell_type": "code",
   "execution_count": null,
   "metadata": {
    "collapsed": false,
    "slideshow": {
     "slide_type": "-"
    }
   },
   "outputs": [],
   "source": [
    "q = @with tbl(i) do\n",
    "    filter(i.A > .5)\n",
    "    select(C = 5 * i.B)\n",
    "end"
   ]
  },
  {
   "cell_type": "markdown",
   "metadata": {
    "slideshow": {
     "slide_type": "-"
    }
   },
   "source": [
    "`i` denotes a \"row token\" that represents an arbitrary row of `tbl` in row-wise operations, such as `filter`ing by row, above.\n",
    "\n",
    "Very much inspired by LINQ/Query.jl. However, tries to maintain conceptual focus of syntax on data as a whole, not just on iterative aspect. "
   ]
  },
  {
   "cell_type": "code",
   "execution_count": null,
   "metadata": {
    "collapsed": false,
    "slideshow": {
     "slide_type": "-"
    }
   },
   "outputs": [],
   "source": [
    "graph(q)"
   ]
  },
  {
   "cell_type": "markdown",
   "metadata": {
    "slideshow": {
     "slide_type": "slide"
    }
   },
   "source": [
    "Supports a general yet compact in-line/single-verb syntax:"
   ]
  },
  {
   "cell_type": "code",
   "execution_count": null,
   "metadata": {
    "collapsed": false,
    "slideshow": {
     "slide_type": "-"
    }
   },
   "outputs": [],
   "source": [
    "q = @with tbl(i) filter(i.A > .5)"
   ]
  },
  {
   "cell_type": "code",
   "execution_count": null,
   "metadata": {
    "collapsed": false,
    "slideshow": {
     "slide_type": "-"
    }
   },
   "outputs": [],
   "source": [
    "graph(q)"
   ]
  },
  {
   "cell_type": "code",
   "execution_count": null,
   "metadata": {
    "collapsed": false,
    "slideshow": {
     "slide_type": "skip"
    }
   },
   "outputs": [],
   "source": [
    "collect(q)"
   ]
  },
  {
   "cell_type": "markdown",
   "metadata": {
    "slideshow": {
     "slide_type": "slide"
    }
   },
   "source": [
    "## Join parsing\n",
    "\n",
    "Associating a \"row token\" with each data source encourages regime in which there is no one \"privileged\" data source argument to each manipulation verb, unlike as in the previously shown interface."
   ]
  },
  {
   "cell_type": "code",
   "execution_count": null,
   "metadata": {
    "collapsed": true
   },
   "outputs": [],
   "source": [
    "tbl1, tbl2, tbl3, tbl4 = DataFrame(), DataFrame(), DataFrame(), DataFrame();"
   ]
  },
  {
   "cell_type": "code",
   "execution_count": null,
   "metadata": {
    "collapsed": false
   },
   "outputs": [],
   "source": [
    "q = @with tbl1(i), tbl2(j) filter(\n",
    "    i.A < j.B, i.C == \"foo\", i.D == j.D\n",
    ")"
   ]
  },
  {
   "cell_type": "markdown",
   "metadata": {},
   "source": [
    "Note the difference between the type of source shown immediately above and that listed in the `show`ing of `Query` objects earlier. "
   ]
  },
  {
   "cell_type": "code",
   "execution_count": null,
   "metadata": {
    "collapsed": false,
    "slideshow": {
     "slide_type": "slide"
    }
   },
   "outputs": [],
   "source": [
    "graph(q)"
   ]
  },
  {
   "cell_type": "markdown",
   "metadata": {
    "slideshow": {
     "slide_type": "slide"
    }
   },
   "source": [
    "Things can get relatively complicated..."
   ]
  },
  {
   "cell_type": "code",
   "execution_count": null,
   "metadata": {
    "collapsed": false,
    "slideshow": {
     "slide_type": "-"
    }
   },
   "outputs": [],
   "source": [
    "q = @with tbl1(i), tbl2(j), tbl3(k), tbl4(h) do\n",
    "    filter(i.A > .5, i.B == j.B, baz(j.C) < .5)\n",
    "    filter(i.C < .5, j.D == \"foo\", k.D == h.D, digamma(k.E) > .5, h.F == \"bar\")\n",
    "    join(i.D == k.D)\n",
    "    groupby(f(i.A) < .5, k.D, g(j.B * k.C))\n",
    "end"
   ]
  },
  {
   "cell_type": "markdown",
   "metadata": {},
   "source": [
    "..."
   ]
  },
  {
   "cell_type": "code",
   "execution_count": null,
   "metadata": {
    "collapsed": false,
    "slideshow": {
     "slide_type": "slide"
    }
   },
   "outputs": [],
   "source": [
    "graph(q)"
   ]
  },
  {
   "cell_type": "markdown",
   "metadata": {
    "slideshow": {
     "slide_type": "slide"
    }
   },
   "source": [
    "## Advantages\n",
    "* Name resolution is more straightforward\n",
    "* Refer to attributes of a table in different contexts\n",
    "    * `i.A` is a \"row-wise\" context\n",
    "    * something like `$B` could be used as a \"column-context\"\n",
    "        * e.g. \n",
    "        ```julia\n",
    "        @with iris() select(avg = mean(:sepal_length))\n",
    "        ```\n",
    "    (could make `select` implicit for extra concision)\n",
    "* Opens up possibilities for neat window function syntaxes, e.g.\n",
    "   ```julia\n",
    "   @with iris(i) filter(\n",
    "       i.sepal_length > mean([ j.sepal_length for j in iris if j.petal_width > i.petal_width ])\n",
    "   )\n",
    "   ```\n",
    "   (i.e. Restrict to observations `i` from `iris` whose value for `sepal_length` is greater than the mean of all values of `sepal_length` over observations `j` from `iris` whose value for `petal_width` is greater than the present observation `i`'s value of `petal_width`.)    \n",
    "   (Of course, such functionality is not generic.)\n",
    "* encourages generality of manipulation verbs over number of sources\n",
    "* Support for more LINQ/Query.jl-like generality over iterators\n",
    "\n",
    "\n",
    "## Disadvantages\n",
    "* Additional complexity\n",
    "    * for the user, e.g. one has to specify row tokens everywhere\n",
    "    * for the developer (ie., me): need to keep track of maps from tokens to maps from field names to column indices\n",
    "* Why is the data source name now a function call?\n",
    "* Abuse of `.` for denoting field reference\n",
    "    * (This wouldn't be a problem if we had named tuples!)\n",
    "    * can always use `Base.getfield` or a selector for actual field retrieval "
   ]
  },
  {
   "cell_type": "markdown",
   "metadata": {
    "slideshow": {
     "slide_type": "slide"
    }
   },
   "source": [
    "# Tabular Data Support More Generally\n",
    "\n",
    "SQ is a data manipulation interface. Julian data scientists may deal with data in `DataFrame`s. So, let's talk about `DataFrame`s. \n",
    "\n",
    "(Stage direction: get on soap box.)\n",
    "\n",
    "We said above that SQ works by iterating over a tuple-producing iterator. Query.jl works similarly. Iteration is fundamental to both implementations. \n",
    "\n",
    "So, we need row-wise iteration over the contents of a `DataFrame` to be fast. Which means that we need such iteration to be type-inferable. \n",
    "\n",
    "`DataArray`s  `NullableArray`s achieves this via type-inferable `Base.getindex`.\n",
    "\n",
    "Alternatives:\n",
    "* Special case small `Union` types\n",
    "* Write code like the [`broadcast` implementation for `DataArray`s](https://github.com/JuliaStats/DataArrays.jl/blob/master/src/broadcast.jl)..."
   ]
  },
  {
   "cell_type": "markdown",
   "metadata": {
    "slideshow": {
     "slide_type": "slide"
    }
   },
   "source": [
    "# Lifting\n",
    "\n",
    "Okay, if we go with `NullableArray`s, we have to contend with the fact that indexing into a `NullableArray{T}` returns an object of type `Nullable{T}`. "
   ]
  },
  {
   "cell_type": "code",
   "execution_count": null,
   "metadata": {
    "collapsed": true
   },
   "outputs": [],
   "source": []
  }
 ],
 "metadata": {
  "anaconda-cloud": {},
  "celltoolbar": "Slideshow",
  "kernelspec": {
   "display_name": "Julia 0.6.0-dev",
   "language": "julia",
   "name": "julia-0.6"
  },
  "language_info": {
   "file_extension": ".jl",
   "mimetype": "application/julia",
   "name": "julia",
   "version": "0.6.0"
  }
 },
 "nbformat": 4,
 "nbformat_minor": 1
}
